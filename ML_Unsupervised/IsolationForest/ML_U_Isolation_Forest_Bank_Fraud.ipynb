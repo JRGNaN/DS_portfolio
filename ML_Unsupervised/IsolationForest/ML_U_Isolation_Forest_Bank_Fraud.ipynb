{
 "cells": [
  {
   "cell_type": "markdown",
   "id": "39d44b07",
   "metadata": {},
   "source": [
    "# ML: Unsupervised algorithm - Isolation Forest - Bank Fraud"
   ]
  },
  {
   "cell_type": "markdown",
   "id": "039a4c9a",
   "metadata": {},
   "source": [
    "## Introduction"
   ]
  },
  {
   "cell_type": "markdown",
   "id": "afb9c6ea",
   "metadata": {},
   "source": [
    "Let's work on an example of banking fraud using the dataset that can be downloaded from KAGGLE (https://www.kaggle.com/datasets/uciml/german-credit), which contains data on customers who have applied for a loan from the bank. "
   ]
  },
  {
   "cell_type": "markdown",
   "id": "e2f19761",
   "metadata": {},
   "source": [
    "## 1. Import libraries"
   ]
  },
  {
   "cell_type": "code",
   "execution_count": 1,
   "id": "a0948291",
   "metadata": {},
   "outputs": [],
   "source": [
    "import numpy as np\n",
    "import pandas as pd\n",
    "import matplotlib.pyplot as plt\n",
    "import seaborn as sns\n",
    "\n",
    "from sklearn.decomposition import PCA\n",
    "from sklearn.preprocessing import LabelEncoder\n",
    "from sklearn.preprocessing import StandardScaler\n",
    "from sklearn.ensemble import IsolationForest"
   ]
  },
  {
   "cell_type": "markdown",
   "id": "ea464d97",
   "metadata": {},
   "source": [
    "## 2. Load datasets"
   ]
  },
  {
   "cell_type": "code",
   "execution_count": 2,
   "id": "c928383f",
   "metadata": {
    "scrolled": false
   },
   "outputs": [
    {
     "data": {
      "text/html": [
       "<div>\n",
       "<style scoped>\n",
       "    .dataframe tbody tr th:only-of-type {\n",
       "        vertical-align: middle;\n",
       "    }\n",
       "\n",
       "    .dataframe tbody tr th {\n",
       "        vertical-align: top;\n",
       "    }\n",
       "\n",
       "    .dataframe thead th {\n",
       "        text-align: right;\n",
       "    }\n",
       "</style>\n",
       "<table border=\"1\" class=\"dataframe\">\n",
       "  <thead>\n",
       "    <tr style=\"text-align: right;\">\n",
       "      <th></th>\n",
       "      <th>Unnamed: 0</th>\n",
       "      <th>Age</th>\n",
       "      <th>Sex</th>\n",
       "      <th>Job</th>\n",
       "      <th>Housing</th>\n",
       "      <th>Saving accounts</th>\n",
       "      <th>Checking account</th>\n",
       "      <th>Credit amount</th>\n",
       "      <th>Duration</th>\n",
       "      <th>Purpose</th>\n",
       "    </tr>\n",
       "  </thead>\n",
       "  <tbody>\n",
       "    <tr>\n",
       "      <th>0</th>\n",
       "      <td>0</td>\n",
       "      <td>67</td>\n",
       "      <td>male</td>\n",
       "      <td>2</td>\n",
       "      <td>own</td>\n",
       "      <td>NaN</td>\n",
       "      <td>little</td>\n",
       "      <td>1169</td>\n",
       "      <td>6</td>\n",
       "      <td>radio/TV</td>\n",
       "    </tr>\n",
       "    <tr>\n",
       "      <th>1</th>\n",
       "      <td>1</td>\n",
       "      <td>22</td>\n",
       "      <td>female</td>\n",
       "      <td>2</td>\n",
       "      <td>own</td>\n",
       "      <td>little</td>\n",
       "      <td>moderate</td>\n",
       "      <td>5951</td>\n",
       "      <td>48</td>\n",
       "      <td>radio/TV</td>\n",
       "    </tr>\n",
       "    <tr>\n",
       "      <th>2</th>\n",
       "      <td>2</td>\n",
       "      <td>49</td>\n",
       "      <td>male</td>\n",
       "      <td>1</td>\n",
       "      <td>own</td>\n",
       "      <td>little</td>\n",
       "      <td>NaN</td>\n",
       "      <td>2096</td>\n",
       "      <td>12</td>\n",
       "      <td>education</td>\n",
       "    </tr>\n",
       "    <tr>\n",
       "      <th>3</th>\n",
       "      <td>3</td>\n",
       "      <td>45</td>\n",
       "      <td>male</td>\n",
       "      <td>2</td>\n",
       "      <td>free</td>\n",
       "      <td>little</td>\n",
       "      <td>little</td>\n",
       "      <td>7882</td>\n",
       "      <td>42</td>\n",
       "      <td>furniture/equipment</td>\n",
       "    </tr>\n",
       "    <tr>\n",
       "      <th>4</th>\n",
       "      <td>4</td>\n",
       "      <td>53</td>\n",
       "      <td>male</td>\n",
       "      <td>2</td>\n",
       "      <td>free</td>\n",
       "      <td>little</td>\n",
       "      <td>little</td>\n",
       "      <td>4870</td>\n",
       "      <td>24</td>\n",
       "      <td>car</td>\n",
       "    </tr>\n",
       "    <tr>\n",
       "      <th>...</th>\n",
       "      <td>...</td>\n",
       "      <td>...</td>\n",
       "      <td>...</td>\n",
       "      <td>...</td>\n",
       "      <td>...</td>\n",
       "      <td>...</td>\n",
       "      <td>...</td>\n",
       "      <td>...</td>\n",
       "      <td>...</td>\n",
       "      <td>...</td>\n",
       "    </tr>\n",
       "    <tr>\n",
       "      <th>995</th>\n",
       "      <td>995</td>\n",
       "      <td>31</td>\n",
       "      <td>female</td>\n",
       "      <td>1</td>\n",
       "      <td>own</td>\n",
       "      <td>little</td>\n",
       "      <td>NaN</td>\n",
       "      <td>1736</td>\n",
       "      <td>12</td>\n",
       "      <td>furniture/equipment</td>\n",
       "    </tr>\n",
       "    <tr>\n",
       "      <th>996</th>\n",
       "      <td>996</td>\n",
       "      <td>40</td>\n",
       "      <td>male</td>\n",
       "      <td>3</td>\n",
       "      <td>own</td>\n",
       "      <td>little</td>\n",
       "      <td>little</td>\n",
       "      <td>3857</td>\n",
       "      <td>30</td>\n",
       "      <td>car</td>\n",
       "    </tr>\n",
       "    <tr>\n",
       "      <th>997</th>\n",
       "      <td>997</td>\n",
       "      <td>38</td>\n",
       "      <td>male</td>\n",
       "      <td>2</td>\n",
       "      <td>own</td>\n",
       "      <td>little</td>\n",
       "      <td>NaN</td>\n",
       "      <td>804</td>\n",
       "      <td>12</td>\n",
       "      <td>radio/TV</td>\n",
       "    </tr>\n",
       "    <tr>\n",
       "      <th>998</th>\n",
       "      <td>998</td>\n",
       "      <td>23</td>\n",
       "      <td>male</td>\n",
       "      <td>2</td>\n",
       "      <td>free</td>\n",
       "      <td>little</td>\n",
       "      <td>little</td>\n",
       "      <td>1845</td>\n",
       "      <td>45</td>\n",
       "      <td>radio/TV</td>\n",
       "    </tr>\n",
       "    <tr>\n",
       "      <th>999</th>\n",
       "      <td>999</td>\n",
       "      <td>27</td>\n",
       "      <td>male</td>\n",
       "      <td>2</td>\n",
       "      <td>own</td>\n",
       "      <td>moderate</td>\n",
       "      <td>moderate</td>\n",
       "      <td>4576</td>\n",
       "      <td>45</td>\n",
       "      <td>car</td>\n",
       "    </tr>\n",
       "  </tbody>\n",
       "</table>\n",
       "<p>1000 rows × 10 columns</p>\n",
       "</div>"
      ],
      "text/plain": [
       "     Unnamed: 0  Age     Sex  Job Housing Saving accounts Checking account  \\\n",
       "0             0   67    male    2     own             NaN           little   \n",
       "1             1   22  female    2     own          little         moderate   \n",
       "2             2   49    male    1     own          little              NaN   \n",
       "3             3   45    male    2    free          little           little   \n",
       "4             4   53    male    2    free          little           little   \n",
       "..          ...  ...     ...  ...     ...             ...              ...   \n",
       "995         995   31  female    1     own          little              NaN   \n",
       "996         996   40    male    3     own          little           little   \n",
       "997         997   38    male    2     own          little              NaN   \n",
       "998         998   23    male    2    free          little           little   \n",
       "999         999   27    male    2     own        moderate         moderate   \n",
       "\n",
       "     Credit amount  Duration              Purpose  \n",
       "0             1169         6             radio/TV  \n",
       "1             5951        48             radio/TV  \n",
       "2             2096        12            education  \n",
       "3             7882        42  furniture/equipment  \n",
       "4             4870        24                  car  \n",
       "..             ...       ...                  ...  \n",
       "995           1736        12  furniture/equipment  \n",
       "996           3857        30                  car  \n",
       "997            804        12             radio/TV  \n",
       "998           1845        45             radio/TV  \n",
       "999           4576        45                  car  \n",
       "\n",
       "[1000 rows x 10 columns]"
      ]
     },
     "execution_count": 2,
     "metadata": {},
     "output_type": "execute_result"
    }
   ],
   "source": [
    "df = pd.read_csv('german_credit_data.csv')\n",
    "df"
   ]
  },
  {
   "cell_type": "markdown",
   "id": "3d9e2f7d",
   "metadata": {},
   "source": [
    "The list of variables included in the file is:\n",
    "\n",
    "* Age: is a numeric variable.\n",
    "* Sex: is a text string with values: male, female.\n",
    "* Job: numeric variable of categorical type that takes the following values:\n",
    "    * 0 - unskilled and non-resident.\n",
    "    * 1 - unskilled and resident.\n",
    "    * 2 - skilled.\n",
    "    * 3 - highly skilled.\n",
    " \n",
    "* Housing: text variable which can be own, rent, or free.\n",
    "* Saving accounts: text variable with possible values: little, moderate, quite rich, rich.\n",
    "* Checking account: numeric variable in DM (Deutsch Mark).\n",
    "* Credit amount: numeric variable in DM.\n",
    "* Duration: numeric variable reflecting the number of months of the duration of the loan.\n",
    "* Purpose: text variable which can take one of the following values: car, furniture/equipment, radio/TV, domestic appliances, repairs, education, business, vacation/others."
   ]
  },
  {
   "cell_type": "markdown",
   "id": "1d6e735c",
   "metadata": {},
   "source": [
    "## 3. Dataset cleaning, wrangling and analysis"
   ]
  },
  {
   "cell_type": "markdown",
   "id": "22c49e26",
   "metadata": {},
   "source": [
    "Analyse the dataset to see if there are unique, duplicate, missings or outliers and take action. \n",
    "\n",
    "The first thing we notice with the info command is that there is a variable 'Unnamed: 0' that we are going to delete. \n",
    "Get the number of unique values for each variable with the unique command.\n",
    "To analyse the duplicates we use duplicated."
   ]
  },
  {
   "cell_type": "code",
   "execution_count": 3,
   "id": "60df1c39",
   "metadata": {},
   "outputs": [
    {
     "name": "stdout",
     "output_type": "stream",
     "text": [
      "<class 'pandas.core.frame.DataFrame'>\n",
      "RangeIndex: 1000 entries, 0 to 999\n",
      "Data columns (total 10 columns):\n",
      " #   Column            Non-Null Count  Dtype \n",
      "---  ------            --------------  ----- \n",
      " 0   Unnamed: 0        1000 non-null   int64 \n",
      " 1   Age               1000 non-null   int64 \n",
      " 2   Sex               1000 non-null   object\n",
      " 3   Job               1000 non-null   int64 \n",
      " 4   Housing           1000 non-null   object\n",
      " 5   Saving accounts   817 non-null    object\n",
      " 6   Checking account  606 non-null    object\n",
      " 7   Credit amount     1000 non-null   int64 \n",
      " 8   Duration          1000 non-null   int64 \n",
      " 9   Purpose           1000 non-null   object\n",
      "dtypes: int64(5), object(5)\n",
      "memory usage: 78.2+ KB\n"
     ]
    }
   ],
   "source": [
    "df.info()"
   ]
  },
  {
   "cell_type": "code",
   "execution_count": 5,
   "id": "1e364a9e",
   "metadata": {},
   "outputs": [
    {
     "name": "stdout",
     "output_type": "stream",
     "text": [
      "<class 'pandas.core.frame.DataFrame'>\n",
      "RangeIndex: 1000 entries, 0 to 999\n",
      "Data columns (total 9 columns):\n",
      " #   Column            Non-Null Count  Dtype \n",
      "---  ------            --------------  ----- \n",
      " 0   Age               1000 non-null   int64 \n",
      " 1   Sex               1000 non-null   object\n",
      " 2   Job               1000 non-null   int64 \n",
      " 3   Housing           1000 non-null   object\n",
      " 4   Saving accounts   817 non-null    object\n",
      " 5   Checking account  606 non-null    object\n",
      " 6   Credit amount     1000 non-null   int64 \n",
      " 7   Duration          1000 non-null   int64 \n",
      " 8   Purpose           1000 non-null   object\n",
      "dtypes: int64(4), object(5)\n",
      "memory usage: 70.4+ KB\n"
     ]
    }
   ],
   "source": [
    "df.drop(columns=['Unnamed: 0'],inplace=True)\n",
    "df.info()"
   ]
  },
  {
   "cell_type": "code",
   "execution_count": 4,
   "id": "cbab34a3",
   "metadata": {},
   "outputs": [
    {
     "data": {
      "text/plain": [
       "Sex                    2\n",
       "Housing                3\n",
       "Checking account       3\n",
       "Job                    4\n",
       "Saving accounts        4\n",
       "Purpose                8\n",
       "Duration              33\n",
       "Age                   53\n",
       "Credit amount        921\n",
       "Unnamed: 0          1000\n",
       "dtype: int64"
      ]
     },
     "execution_count": 4,
     "metadata": {},
     "output_type": "execute_result"
    }
   ],
   "source": [
    "df.nunique().sort_values()"
   ]
  },
  {
   "cell_type": "code",
   "execution_count": 5,
   "id": "89ce3fc9",
   "metadata": {},
   "outputs": [
    {
     "data": {
      "text/plain": [
       "0"
      ]
     },
     "execution_count": 5,
     "metadata": {},
     "output_type": "execute_result"
    }
   ],
   "source": [
    "df.duplicated().sum()"
   ]
  },
  {
   "cell_type": "markdown",
   "id": "3724a18f",
   "metadata": {},
   "source": [
    "Separate the categorical and numerical variables to do a detailed analysis of them to see the number of nulls and the different values they take:"
   ]
  },
  {
   "cell_type": "markdown",
   "id": "84ff459a",
   "metadata": {},
   "source": [
    "* Make the selection with select_dtypes and the exclude option. Don't forget to create the copy of the dataframe.\n",
    "* Obtain the number of nulls with isna and the sum by columns with the sum command. To facilitate the analysis we use the sort_values command.\n",
    "* Obtain a count of the values taken by some variables such as 'Saving accounts' and 'Checking accounts' with value_counts.  \n",
    "* Avoid distorting the results we use the dropna option.\n",
    "* Let's fill in the missings of these variables with 'little' and 'unknown' as they are the most frequent ones."
   ]
  },
  {
   "cell_type": "code",
   "execution_count": 6,
   "id": "ba6f3f3c",
   "metadata": {},
   "outputs": [],
   "source": [
    "cat = df.select_dtypes(exclude = 'number').copy()"
   ]
  },
  {
   "cell_type": "code",
   "execution_count": 7,
   "id": "dc5d3ea4",
   "metadata": {},
   "outputs": [
    {
     "data": {
      "text/plain": [
       "Checking account    394\n",
       "Saving accounts     183\n",
       "Sex                   0\n",
       "Housing               0\n",
       "Purpose               0\n",
       "dtype: int64"
      ]
     },
     "execution_count": 7,
     "metadata": {},
     "output_type": "execute_result"
    }
   ],
   "source": [
    "cat.isna().sum().sort_values(ascending = False)"
   ]
  },
  {
   "cell_type": "code",
   "execution_count": 8,
   "id": "760f1f0a",
   "metadata": {},
   "outputs": [
    {
     "data": {
      "text/plain": [
       "little        603\n",
       "NaN           183\n",
       "moderate      103\n",
       "quite rich     63\n",
       "rich           48\n",
       "Name: Saving accounts, dtype: int64"
      ]
     },
     "execution_count": 8,
     "metadata": {},
     "output_type": "execute_result"
    }
   ],
   "source": [
    "df['Saving accounts'].value_counts(dropna=False)"
   ]
  },
  {
   "cell_type": "code",
   "execution_count": 9,
   "id": "1cf99d61",
   "metadata": {},
   "outputs": [
    {
     "data": {
      "text/plain": [
       "NaN         394\n",
       "little      274\n",
       "moderate    269\n",
       "rich         63\n",
       "Name: Checking account, dtype: int64"
      ]
     },
     "execution_count": 9,
     "metadata": {},
     "output_type": "execute_result"
    }
   ],
   "source": [
    "df['Checking account'].value_counts(dropna=False)"
   ]
  },
  {
   "cell_type": "code",
   "execution_count": 10,
   "id": "207b7198",
   "metadata": {},
   "outputs": [
    {
     "data": {
      "text/html": [
       "<div>\n",
       "<style scoped>\n",
       "    .dataframe tbody tr th:only-of-type {\n",
       "        vertical-align: middle;\n",
       "    }\n",
       "\n",
       "    .dataframe tbody tr th {\n",
       "        vertical-align: top;\n",
       "    }\n",
       "\n",
       "    .dataframe thead th {\n",
       "        text-align: right;\n",
       "    }\n",
       "</style>\n",
       "<table border=\"1\" class=\"dataframe\">\n",
       "  <thead>\n",
       "    <tr style=\"text-align: right;\">\n",
       "      <th></th>\n",
       "      <th>Unnamed: 0</th>\n",
       "      <th>Age</th>\n",
       "      <th>Sex</th>\n",
       "      <th>Job</th>\n",
       "      <th>Housing</th>\n",
       "      <th>Saving accounts</th>\n",
       "      <th>Checking account</th>\n",
       "      <th>Credit amount</th>\n",
       "      <th>Duration</th>\n",
       "      <th>Purpose</th>\n",
       "      <th>Saving_accounts</th>\n",
       "      <th>Checking_account</th>\n",
       "    </tr>\n",
       "  </thead>\n",
       "  <tbody>\n",
       "    <tr>\n",
       "      <th>0</th>\n",
       "      <td>0</td>\n",
       "      <td>67</td>\n",
       "      <td>male</td>\n",
       "      <td>2</td>\n",
       "      <td>own</td>\n",
       "      <td>NaN</td>\n",
       "      <td>little</td>\n",
       "      <td>1169</td>\n",
       "      <td>6</td>\n",
       "      <td>radio/TV</td>\n",
       "      <td>little</td>\n",
       "      <td>little</td>\n",
       "    </tr>\n",
       "    <tr>\n",
       "      <th>1</th>\n",
       "      <td>1</td>\n",
       "      <td>22</td>\n",
       "      <td>female</td>\n",
       "      <td>2</td>\n",
       "      <td>own</td>\n",
       "      <td>little</td>\n",
       "      <td>moderate</td>\n",
       "      <td>5951</td>\n",
       "      <td>48</td>\n",
       "      <td>radio/TV</td>\n",
       "      <td>little</td>\n",
       "      <td>moderate</td>\n",
       "    </tr>\n",
       "    <tr>\n",
       "      <th>2</th>\n",
       "      <td>2</td>\n",
       "      <td>49</td>\n",
       "      <td>male</td>\n",
       "      <td>1</td>\n",
       "      <td>own</td>\n",
       "      <td>little</td>\n",
       "      <td>NaN</td>\n",
       "      <td>2096</td>\n",
       "      <td>12</td>\n",
       "      <td>education</td>\n",
       "      <td>little</td>\n",
       "      <td>desconocido</td>\n",
       "    </tr>\n",
       "    <tr>\n",
       "      <th>3</th>\n",
       "      <td>3</td>\n",
       "      <td>45</td>\n",
       "      <td>male</td>\n",
       "      <td>2</td>\n",
       "      <td>free</td>\n",
       "      <td>little</td>\n",
       "      <td>little</td>\n",
       "      <td>7882</td>\n",
       "      <td>42</td>\n",
       "      <td>furniture/equipment</td>\n",
       "      <td>little</td>\n",
       "      <td>little</td>\n",
       "    </tr>\n",
       "    <tr>\n",
       "      <th>4</th>\n",
       "      <td>4</td>\n",
       "      <td>53</td>\n",
       "      <td>male</td>\n",
       "      <td>2</td>\n",
       "      <td>free</td>\n",
       "      <td>little</td>\n",
       "      <td>little</td>\n",
       "      <td>4870</td>\n",
       "      <td>24</td>\n",
       "      <td>car</td>\n",
       "      <td>little</td>\n",
       "      <td>little</td>\n",
       "    </tr>\n",
       "    <tr>\n",
       "      <th>...</th>\n",
       "      <td>...</td>\n",
       "      <td>...</td>\n",
       "      <td>...</td>\n",
       "      <td>...</td>\n",
       "      <td>...</td>\n",
       "      <td>...</td>\n",
       "      <td>...</td>\n",
       "      <td>...</td>\n",
       "      <td>...</td>\n",
       "      <td>...</td>\n",
       "      <td>...</td>\n",
       "      <td>...</td>\n",
       "    </tr>\n",
       "    <tr>\n",
       "      <th>995</th>\n",
       "      <td>995</td>\n",
       "      <td>31</td>\n",
       "      <td>female</td>\n",
       "      <td>1</td>\n",
       "      <td>own</td>\n",
       "      <td>little</td>\n",
       "      <td>NaN</td>\n",
       "      <td>1736</td>\n",
       "      <td>12</td>\n",
       "      <td>furniture/equipment</td>\n",
       "      <td>little</td>\n",
       "      <td>desconocido</td>\n",
       "    </tr>\n",
       "    <tr>\n",
       "      <th>996</th>\n",
       "      <td>996</td>\n",
       "      <td>40</td>\n",
       "      <td>male</td>\n",
       "      <td>3</td>\n",
       "      <td>own</td>\n",
       "      <td>little</td>\n",
       "      <td>little</td>\n",
       "      <td>3857</td>\n",
       "      <td>30</td>\n",
       "      <td>car</td>\n",
       "      <td>little</td>\n",
       "      <td>little</td>\n",
       "    </tr>\n",
       "    <tr>\n",
       "      <th>997</th>\n",
       "      <td>997</td>\n",
       "      <td>38</td>\n",
       "      <td>male</td>\n",
       "      <td>2</td>\n",
       "      <td>own</td>\n",
       "      <td>little</td>\n",
       "      <td>NaN</td>\n",
       "      <td>804</td>\n",
       "      <td>12</td>\n",
       "      <td>radio/TV</td>\n",
       "      <td>little</td>\n",
       "      <td>desconocido</td>\n",
       "    </tr>\n",
       "    <tr>\n",
       "      <th>998</th>\n",
       "      <td>998</td>\n",
       "      <td>23</td>\n",
       "      <td>male</td>\n",
       "      <td>2</td>\n",
       "      <td>free</td>\n",
       "      <td>little</td>\n",
       "      <td>little</td>\n",
       "      <td>1845</td>\n",
       "      <td>45</td>\n",
       "      <td>radio/TV</td>\n",
       "      <td>little</td>\n",
       "      <td>little</td>\n",
       "    </tr>\n",
       "    <tr>\n",
       "      <th>999</th>\n",
       "      <td>999</td>\n",
       "      <td>27</td>\n",
       "      <td>male</td>\n",
       "      <td>2</td>\n",
       "      <td>own</td>\n",
       "      <td>moderate</td>\n",
       "      <td>moderate</td>\n",
       "      <td>4576</td>\n",
       "      <td>45</td>\n",
       "      <td>car</td>\n",
       "      <td>moderate</td>\n",
       "      <td>moderate</td>\n",
       "    </tr>\n",
       "  </tbody>\n",
       "</table>\n",
       "<p>1000 rows × 12 columns</p>\n",
       "</div>"
      ],
      "text/plain": [
       "     Unnamed: 0  Age     Sex  Job Housing Saving accounts Checking account  \\\n",
       "0             0   67    male    2     own             NaN           little   \n",
       "1             1   22  female    2     own          little         moderate   \n",
       "2             2   49    male    1     own          little              NaN   \n",
       "3             3   45    male    2    free          little           little   \n",
       "4             4   53    male    2    free          little           little   \n",
       "..          ...  ...     ...  ...     ...             ...              ...   \n",
       "995         995   31  female    1     own          little              NaN   \n",
       "996         996   40    male    3     own          little           little   \n",
       "997         997   38    male    2     own          little              NaN   \n",
       "998         998   23    male    2    free          little           little   \n",
       "999         999   27    male    2     own        moderate         moderate   \n",
       "\n",
       "     Credit amount  Duration              Purpose Saving_accounts  \\\n",
       "0             1169         6             radio/TV          little   \n",
       "1             5951        48             radio/TV          little   \n",
       "2             2096        12            education          little   \n",
       "3             7882        42  furniture/equipment          little   \n",
       "4             4870        24                  car          little   \n",
       "..             ...       ...                  ...             ...   \n",
       "995           1736        12  furniture/equipment          little   \n",
       "996           3857        30                  car          little   \n",
       "997            804        12             radio/TV          little   \n",
       "998           1845        45             radio/TV          little   \n",
       "999           4576        45                  car        moderate   \n",
       "\n",
       "    Checking_account  \n",
       "0             little  \n",
       "1           moderate  \n",
       "2        desconocido  \n",
       "3             little  \n",
       "4             little  \n",
       "..               ...  \n",
       "995      desconocido  \n",
       "996           little  \n",
       "997      desconocido  \n",
       "998           little  \n",
       "999         moderate  \n",
       "\n",
       "[1000 rows x 12 columns]"
      ]
     },
     "execution_count": 10,
     "metadata": {},
     "output_type": "execute_result"
    }
   ],
   "source": [
    "# For Saving accounts we replace the NA with the value 'little' which is by far the most frequent value.\n",
    "df['Saving_accounts'] = df['Saving accounts'].fillna('little')\n",
    "\n",
    "# For Checking account 40% of data are NaN and the two most frequent values have very similar values, \n",
    "# so we create a new category 'unknown'. We could randomise on 'little' or 'moderate'. moderate\n",
    "df['Checking_account'] = df['Checking account'].fillna('desconocido')\n",
    "df\n"
   ]
  },
  {
   "cell_type": "code",
   "execution_count": 11,
   "id": "1009a86e",
   "metadata": {
    "scrolled": true
   },
   "outputs": [
    {
     "data": {
      "text/plain": [
       "desconocido    0.394\n",
       "little         0.274\n",
       "moderate       0.269\n",
       "rich           0.063\n",
       "Name: Checking_account, dtype: float64"
      ]
     },
     "execution_count": 11,
     "metadata": {},
     "output_type": "execute_result"
    }
   ],
   "source": [
    "df['Checking_account'].value_counts(normalize=True)"
   ]
  },
  {
   "cell_type": "markdown",
   "id": "9f5a790c",
   "metadata": {},
   "source": [
    "To be able to use the variables in the model we have to encode those that are categorical, as the model does not understand variables that do not have a numerical format. We do this with the sklearn LabelEncoder method and change the name so as not to replace the original variables and to be able to maintain traceability of the data."
   ]
  },
  {
   "cell_type": "code",
   "execution_count": 12,
   "id": "00f775e3",
   "metadata": {},
   "outputs": [
    {
     "data": {
      "text/plain": [
       "Index(['Sex', 'Housing', 'Saving accounts', 'Checking account', 'Purpose'], dtype='object')"
      ]
     },
     "execution_count": 12,
     "metadata": {},
     "output_type": "execute_result"
    }
   ],
   "source": [
    "cat.columns"
   ]
  },
  {
   "cell_type": "code",
   "execution_count": 13,
   "id": "94021e67",
   "metadata": {},
   "outputs": [
    {
     "name": "stdout",
     "output_type": "stream",
     "text": [
      "Sex_enc\n",
      "Housing_enc\n",
      "Saving_accounts_enc\n",
      "Checking_account_enc\n",
      "Purpose_enc\n"
     ]
    }
   ],
   "source": [
    "# Categorise the variables in order to use them in the model.\n",
    "categorical = ['Sex', 'Housing', 'Saving_accounts', 'Checking_account', 'Purpose']\n",
    "\n",
    "encoder = LabelEncoder()\n",
    "for label in categorical:\n",
    "    label1 = label + '_enc'\n",
    "    print(label1)\n",
    "    df[label1] = encoder.fit_transform(df[label])"
   ]
  },
  {
   "cell_type": "markdown",
   "id": "8477aa4b",
   "metadata": {},
   "source": [
    "Standardise the numerical variables to remove the influence of magnitude with StandardScaler. Include the variables that coded the values of the categorical variables for consistency."
   ]
  },
  {
   "cell_type": "code",
   "execution_count": 14,
   "id": "deee50a9",
   "metadata": {},
   "outputs": [
    {
     "data": {
      "text/plain": [
       "Index(['Unnamed: 0', 'Age', 'Sex', 'Job', 'Housing', 'Saving accounts',\n",
       "       'Checking account', 'Credit amount', 'Duration', 'Purpose',\n",
       "       'Saving_accounts', 'Checking_account', 'Sex_enc', 'Housing_enc',\n",
       "       'Saving_accounts_enc', 'Checking_account_enc', 'Purpose_enc'],\n",
       "      dtype='object')"
      ]
     },
     "execution_count": 14,
     "metadata": {},
     "output_type": "execute_result"
    }
   ],
   "source": [
    "df.columns"
   ]
  },
  {
   "cell_type": "code",
   "execution_count": 15,
   "id": "b1f84edd",
   "metadata": {},
   "outputs": [
    {
     "data": {
      "text/html": [
       "<div>\n",
       "<style scoped>\n",
       "    .dataframe tbody tr th:only-of-type {\n",
       "        vertical-align: middle;\n",
       "    }\n",
       "\n",
       "    .dataframe tbody tr th {\n",
       "        vertical-align: top;\n",
       "    }\n",
       "\n",
       "    .dataframe thead th {\n",
       "        text-align: right;\n",
       "    }\n",
       "</style>\n",
       "<table border=\"1\" class=\"dataframe\">\n",
       "  <thead>\n",
       "    <tr style=\"text-align: right;\">\n",
       "      <th></th>\n",
       "      <th>Unnamed: 0</th>\n",
       "      <th>Age</th>\n",
       "      <th>Job</th>\n",
       "      <th>Credit amount</th>\n",
       "      <th>Duration</th>\n",
       "      <th>Sex_enc</th>\n",
       "      <th>Housing_enc</th>\n",
       "      <th>Saving_accounts_enc</th>\n",
       "      <th>Checking_account_enc</th>\n",
       "      <th>Purpose_enc</th>\n",
       "    </tr>\n",
       "  </thead>\n",
       "  <tbody>\n",
       "    <tr>\n",
       "      <th>0</th>\n",
       "      <td>0</td>\n",
       "      <td>67</td>\n",
       "      <td>2</td>\n",
       "      <td>1169</td>\n",
       "      <td>6</td>\n",
       "      <td>1</td>\n",
       "      <td>1</td>\n",
       "      <td>0</td>\n",
       "      <td>1</td>\n",
       "      <td>5</td>\n",
       "    </tr>\n",
       "    <tr>\n",
       "      <th>1</th>\n",
       "      <td>1</td>\n",
       "      <td>22</td>\n",
       "      <td>2</td>\n",
       "      <td>5951</td>\n",
       "      <td>48</td>\n",
       "      <td>0</td>\n",
       "      <td>1</td>\n",
       "      <td>0</td>\n",
       "      <td>2</td>\n",
       "      <td>5</td>\n",
       "    </tr>\n",
       "    <tr>\n",
       "      <th>2</th>\n",
       "      <td>2</td>\n",
       "      <td>49</td>\n",
       "      <td>1</td>\n",
       "      <td>2096</td>\n",
       "      <td>12</td>\n",
       "      <td>1</td>\n",
       "      <td>1</td>\n",
       "      <td>0</td>\n",
       "      <td>0</td>\n",
       "      <td>3</td>\n",
       "    </tr>\n",
       "    <tr>\n",
       "      <th>3</th>\n",
       "      <td>3</td>\n",
       "      <td>45</td>\n",
       "      <td>2</td>\n",
       "      <td>7882</td>\n",
       "      <td>42</td>\n",
       "      <td>1</td>\n",
       "      <td>0</td>\n",
       "      <td>0</td>\n",
       "      <td>1</td>\n",
       "      <td>4</td>\n",
       "    </tr>\n",
       "    <tr>\n",
       "      <th>4</th>\n",
       "      <td>4</td>\n",
       "      <td>53</td>\n",
       "      <td>2</td>\n",
       "      <td>4870</td>\n",
       "      <td>24</td>\n",
       "      <td>1</td>\n",
       "      <td>0</td>\n",
       "      <td>0</td>\n",
       "      <td>1</td>\n",
       "      <td>1</td>\n",
       "    </tr>\n",
       "  </tbody>\n",
       "</table>\n",
       "</div>"
      ],
      "text/plain": [
       "   Unnamed: 0  Age  Job  Credit amount  Duration  Sex_enc  Housing_enc  \\\n",
       "0           0   67    2           1169         6        1            1   \n",
       "1           1   22    2           5951        48        0            1   \n",
       "2           2   49    1           2096        12        1            1   \n",
       "3           3   45    2           7882        42        1            0   \n",
       "4           4   53    2           4870        24        1            0   \n",
       "\n",
       "   Saving_accounts_enc  Checking_account_enc  Purpose_enc  \n",
       "0                    0                     1            5  \n",
       "1                    0                     2            5  \n",
       "2                    0                     0            3  \n",
       "3                    0                     1            4  \n",
       "4                    0                     1            1  "
      ]
     },
     "execution_count": 15,
     "metadata": {},
     "output_type": "execute_result"
    }
   ],
   "source": [
    "# Select the numerical and categorised variables\n",
    "\n",
    "df = df.select_dtypes(include='number')\n",
    "df.head()"
   ]
  },
  {
   "cell_type": "code",
   "execution_count": 16,
   "id": "738e9bf4",
   "metadata": {
    "scrolled": true
   },
   "outputs": [
    {
     "data": {
      "text/html": [
       "<div>\n",
       "<style scoped>\n",
       "    .dataframe tbody tr th:only-of-type {\n",
       "        vertical-align: middle;\n",
       "    }\n",
       "\n",
       "    .dataframe tbody tr th {\n",
       "        vertical-align: top;\n",
       "    }\n",
       "\n",
       "    .dataframe thead th {\n",
       "        text-align: right;\n",
       "    }\n",
       "</style>\n",
       "<table border=\"1\" class=\"dataframe\">\n",
       "  <thead>\n",
       "    <tr style=\"text-align: right;\">\n",
       "      <th></th>\n",
       "      <th>Age</th>\n",
       "      <th>Job</th>\n",
       "      <th>Credit amount</th>\n",
       "      <th>Duration</th>\n",
       "      <th>Sex_enc</th>\n",
       "      <th>Housing_enc</th>\n",
       "      <th>Saving_accounts_enc</th>\n",
       "      <th>Checking_account_enc</th>\n",
       "      <th>Purpose_enc</th>\n",
       "    </tr>\n",
       "  </thead>\n",
       "  <tbody>\n",
       "    <tr>\n",
       "      <th>0</th>\n",
       "      <td>2.766456</td>\n",
       "      <td>0.146949</td>\n",
       "      <td>-0.745131</td>\n",
       "      <td>-1.236478</td>\n",
       "      <td>0.670280</td>\n",
       "      <td>-0.133710</td>\n",
       "      <td>-0.463409</td>\n",
       "      <td>-0.001045</td>\n",
       "      <td>1.073263</td>\n",
       "    </tr>\n",
       "    <tr>\n",
       "      <th>1</th>\n",
       "      <td>-1.191404</td>\n",
       "      <td>0.146949</td>\n",
       "      <td>0.949817</td>\n",
       "      <td>2.248194</td>\n",
       "      <td>-1.491914</td>\n",
       "      <td>-0.133710</td>\n",
       "      <td>-0.463409</td>\n",
       "      <td>1.044372</td>\n",
       "      <td>1.073263</td>\n",
       "    </tr>\n",
       "    <tr>\n",
       "      <th>2</th>\n",
       "      <td>1.183312</td>\n",
       "      <td>-1.383771</td>\n",
       "      <td>-0.416562</td>\n",
       "      <td>-0.738668</td>\n",
       "      <td>0.670280</td>\n",
       "      <td>-0.133710</td>\n",
       "      <td>-0.463409</td>\n",
       "      <td>-1.046463</td>\n",
       "      <td>0.061705</td>\n",
       "    </tr>\n",
       "    <tr>\n",
       "      <th>3</th>\n",
       "      <td>0.831502</td>\n",
       "      <td>0.146949</td>\n",
       "      <td>1.634247</td>\n",
       "      <td>1.750384</td>\n",
       "      <td>0.670280</td>\n",
       "      <td>-2.016956</td>\n",
       "      <td>-0.463409</td>\n",
       "      <td>-0.001045</td>\n",
       "      <td>0.567484</td>\n",
       "    </tr>\n",
       "    <tr>\n",
       "      <th>4</th>\n",
       "      <td>1.535122</td>\n",
       "      <td>0.146949</td>\n",
       "      <td>0.566664</td>\n",
       "      <td>0.256953</td>\n",
       "      <td>0.670280</td>\n",
       "      <td>-2.016956</td>\n",
       "      <td>-0.463409</td>\n",
       "      <td>-0.001045</td>\n",
       "      <td>-0.949853</td>\n",
       "    </tr>\n",
       "  </tbody>\n",
       "</table>\n",
       "</div>"
      ],
      "text/plain": [
       "        Age       Job  Credit amount  Duration   Sex_enc  Housing_enc  \\\n",
       "0  2.766456  0.146949      -0.745131 -1.236478  0.670280    -0.133710   \n",
       "1 -1.191404  0.146949       0.949817  2.248194 -1.491914    -0.133710   \n",
       "2  1.183312 -1.383771      -0.416562 -0.738668  0.670280    -0.133710   \n",
       "3  0.831502  0.146949       1.634247  1.750384  0.670280    -2.016956   \n",
       "4  1.535122  0.146949       0.566664  0.256953  0.670280    -2.016956   \n",
       "\n",
       "   Saving_accounts_enc  Checking_account_enc  Purpose_enc  \n",
       "0            -0.463409             -0.001045     1.073263  \n",
       "1            -0.463409              1.044372     1.073263  \n",
       "2            -0.463409             -1.046463     0.061705  \n",
       "3            -0.463409             -0.001045     0.567484  \n",
       "4            -0.463409             -0.001045    -0.949853  "
      ]
     },
     "execution_count": 16,
     "metadata": {},
     "output_type": "execute_result"
    }
   ],
   "source": [
    "df = df.loc[:,['Age','Job','Credit amount','Duration','Sex_enc', 'Housing_enc', 'Saving_accounts_enc',\n",
    "               'Checking_account_enc', 'Purpose_enc']]\n",
    "\n",
    "scaler = StandardScaler()\n",
    "X_scaled = scaler.fit_transform(df)\n",
    "data_scaled = pd.DataFrame(X_scaled, columns=df.columns)\n",
    "data_scaled.head()"
   ]
  },
  {
   "cell_type": "markdown",
   "id": "389ff037",
   "metadata": {},
   "source": [
    "We are going to obtain a Principal Component Analysis (PCA) to be able to paint the first two components and thus see in a scatterplot the maximum possible information, since each component agglutinates a group of variables."
   ]
  },
  {
   "cell_type": "code",
   "execution_count": 17,
   "id": "cfb62980",
   "metadata": {},
   "outputs": [
    {
     "data": {
      "text/plain": [
       "(1000, 2)"
      ]
     },
     "execution_count": 17,
     "metadata": {},
     "output_type": "execute_result"
    }
   ],
   "source": [
    "pca = PCA(n_components=2)\n",
    "X_pca = pca.fit_transform(X_scaled)\n",
    "X_pca.shape"
   ]
  },
  {
   "cell_type": "code",
   "execution_count": 18,
   "id": "029c3eab",
   "metadata": {},
   "outputs": [
    {
     "data": {
      "text/plain": [
       "array([[-0.54760083,  2.52984256],\n",
       "       [ 1.17341002, -2.47086958],\n",
       "       [-0.71645631,  1.67667933],\n",
       "       ...,\n",
       "       [-0.77358701,  0.9741025 ],\n",
       "       [ 1.3512007 ,  0.01564918],\n",
       "       [ 1.60792046, -0.89476066]])"
      ]
     },
     "execution_count": 18,
     "metadata": {},
     "output_type": "execute_result"
    }
   ],
   "source": [
    "X_pca"
   ]
  },
  {
   "cell_type": "markdown",
   "id": "844cb1ff",
   "metadata": {},
   "source": [
    "## 4. Train model"
   ]
  },
  {
   "cell_type": "markdown",
   "id": "95dfefcd",
   "metadata": {},
   "source": [
    "It is time to model and instantiate sklearn's Isolation Forest model whose most important parameters are:\n",
    "\n",
    "* n_estimators: the number of trees in the forest. The default is 100.\n",
    "* max_samples: for each tree, the number or proportion of samples. Default is 'auto', calculated by the algorithm.\n",
    "* contamination: this is the most critical parameter, the user sets the proportion of abnormal points in the sample. Default is 'auto', it is determined by the algorithm.\n",
    "* max_features: for each tree, the number or proportion of features."
   ]
  },
  {
   "cell_type": "markdown",
   "id": "75cf9633",
   "metadata": {},
   "source": [
    "The most important methods are:\n",
    "\n",
    "* fit(): method for training the model.\n",
    "* predict(): returns two values: 1 if the observation is normal or -1 if the algorithm considers it atypical.\n",
    "* decision_function(): returns the outlier score of the sample. The lower the value, the more likely it is an abnormal sample. It is related to the contamination parameter, if not included in the model instance, decision_function will subtract 0.5, interpreting normal values as positive 0 and abnormal values as negative. \n",
    "If the values are around 0.5 the model is not quite sure if the sample is outlier or not. You can check the details here: https://scikit-learn.org/stable/modules/generated/sklearn.ensemble.IsolationForest.html#sklearn.ensemble.IsolationForest.decision_function"
   ]
  },
  {
   "cell_type": "markdown",
   "id": "ff15e317",
   "metadata": {},
   "source": [
    "To visualise the results we will use the first two components of the PCA for the x and y axes, and assign the colour of the samples according to the model label. Note that the outliers are located at the outer points. Also, note that this is a two-dimensional representation of a data set with many dimensions."
   ]
  },
  {
   "cell_type": "code",
   "execution_count": 19,
   "id": "b11d76de",
   "metadata": {},
   "outputs": [],
   "source": [
    "IsoFrst = IsolationForest (n_estimators=100,contamination=0.15)\n",
    "IsoFrst.fit(X_scaled)\n",
    "outliers = IsoFrst.predict(X_scaled)\n",
    "anomaly_score = IsoFrst.decision_function(X_scaled)"
   ]
  },
  {
   "cell_type": "code",
   "execution_count": 20,
   "id": "19e7fad4",
   "metadata": {},
   "outputs": [
    {
     "data": {
      "image/png": "[encoded data removed]",
      "text/plain": [
       "<Figure size 432x288 with 1 Axes>"
      ]
     },
     "metadata": {
      "needs_background": "light"
     },
     "output_type": "display_data"
    }
   ],
   "source": [
    "plt.title('Isolation Forest')\n",
    "sns.scatterplot(x = X_pca[:,0], y = X_pca[:,1], hue=outliers, palette='rainbow');\n",
    "#Resultado del código ejecutado:"
   ]
  },
  {
   "cell_type": "code",
   "execution_count": 22,
   "id": "e3504047",
   "metadata": {},
   "outputs": [],
   "source": [
    "df['outlier']=outliers"
   ]
  },
  {
   "cell_type": "code",
   "execution_count": 28,
   "id": "59497dbd",
   "metadata": {},
   "outputs": [
    {
     "data": {
      "text/html": [
       "<div>\n",
       "<style scoped>\n",
       "    .dataframe tbody tr th:only-of-type {\n",
       "        vertical-align: middle;\n",
       "    }\n",
       "\n",
       "    .dataframe tbody tr th {\n",
       "        vertical-align: top;\n",
       "    }\n",
       "\n",
       "    .dataframe thead th {\n",
       "        text-align: right;\n",
       "    }\n",
       "</style>\n",
       "<table border=\"1\" class=\"dataframe\">\n",
       "  <thead>\n",
       "    <tr style=\"text-align: right;\">\n",
       "      <th></th>\n",
       "      <th>Age</th>\n",
       "      <th>Job</th>\n",
       "      <th>Credit amount</th>\n",
       "      <th>Duration</th>\n",
       "      <th>Sex_enc</th>\n",
       "      <th>Housing_enc</th>\n",
       "      <th>Saving_accounts_enc</th>\n",
       "      <th>Checking_account_enc</th>\n",
       "      <th>Purpose_enc</th>\n",
       "      <th>outlier</th>\n",
       "    </tr>\n",
       "  </thead>\n",
       "  <tbody>\n",
       "    <tr>\n",
       "      <th>5</th>\n",
       "      <td>35</td>\n",
       "      <td>1</td>\n",
       "      <td>9055</td>\n",
       "      <td>36</td>\n",
       "      <td>1</td>\n",
       "      <td>0</td>\n",
       "      <td>0</td>\n",
       "      <td>0</td>\n",
       "      <td>3</td>\n",
       "      <td>-1</td>\n",
       "    </tr>\n",
       "    <tr>\n",
       "      <th>8</th>\n",
       "      <td>61</td>\n",
       "      <td>1</td>\n",
       "      <td>3059</td>\n",
       "      <td>12</td>\n",
       "      <td>1</td>\n",
       "      <td>1</td>\n",
       "      <td>3</td>\n",
       "      <td>0</td>\n",
       "      <td>5</td>\n",
       "      <td>-1</td>\n",
       "    </tr>\n",
       "    <tr>\n",
       "      <th>11</th>\n",
       "      <td>24</td>\n",
       "      <td>2</td>\n",
       "      <td>4308</td>\n",
       "      <td>48</td>\n",
       "      <td>0</td>\n",
       "      <td>2</td>\n",
       "      <td>0</td>\n",
       "      <td>1</td>\n",
       "      <td>0</td>\n",
       "      <td>-1</td>\n",
       "    </tr>\n",
       "    <tr>\n",
       "      <th>18</th>\n",
       "      <td>44</td>\n",
       "      <td>3</td>\n",
       "      <td>12579</td>\n",
       "      <td>24</td>\n",
       "      <td>0</td>\n",
       "      <td>0</td>\n",
       "      <td>0</td>\n",
       "      <td>2</td>\n",
       "      <td>1</td>\n",
       "      <td>-1</td>\n",
       "    </tr>\n",
       "    <tr>\n",
       "      <th>21</th>\n",
       "      <td>44</td>\n",
       "      <td>2</td>\n",
       "      <td>2647</td>\n",
       "      <td>6</td>\n",
       "      <td>1</td>\n",
       "      <td>2</td>\n",
       "      <td>2</td>\n",
       "      <td>1</td>\n",
       "      <td>5</td>\n",
       "      <td>-1</td>\n",
       "    </tr>\n",
       "    <tr>\n",
       "      <th>...</th>\n",
       "      <td>...</td>\n",
       "      <td>...</td>\n",
       "      <td>...</td>\n",
       "      <td>...</td>\n",
       "      <td>...</td>\n",
       "      <td>...</td>\n",
       "      <td>...</td>\n",
       "      <td>...</td>\n",
       "      <td>...</td>\n",
       "      <td>...</td>\n",
       "    </tr>\n",
       "    <tr>\n",
       "      <th>972</th>\n",
       "      <td>29</td>\n",
       "      <td>0</td>\n",
       "      <td>1193</td>\n",
       "      <td>24</td>\n",
       "      <td>0</td>\n",
       "      <td>2</td>\n",
       "      <td>0</td>\n",
       "      <td>1</td>\n",
       "      <td>1</td>\n",
       "      <td>-1</td>\n",
       "    </tr>\n",
       "    <tr>\n",
       "      <th>973</th>\n",
       "      <td>36</td>\n",
       "      <td>2</td>\n",
       "      <td>7297</td>\n",
       "      <td>60</td>\n",
       "      <td>1</td>\n",
       "      <td>2</td>\n",
       "      <td>0</td>\n",
       "      <td>1</td>\n",
       "      <td>0</td>\n",
       "      <td>-1</td>\n",
       "    </tr>\n",
       "    <tr>\n",
       "      <th>975</th>\n",
       "      <td>57</td>\n",
       "      <td>1</td>\n",
       "      <td>1258</td>\n",
       "      <td>24</td>\n",
       "      <td>0</td>\n",
       "      <td>1</td>\n",
       "      <td>2</td>\n",
       "      <td>3</td>\n",
       "      <td>5</td>\n",
       "      <td>-1</td>\n",
       "    </tr>\n",
       "    <tr>\n",
       "      <th>981</th>\n",
       "      <td>33</td>\n",
       "      <td>3</td>\n",
       "      <td>4844</td>\n",
       "      <td>48</td>\n",
       "      <td>1</td>\n",
       "      <td>2</td>\n",
       "      <td>0</td>\n",
       "      <td>0</td>\n",
       "      <td>0</td>\n",
       "      <td>-1</td>\n",
       "    </tr>\n",
       "    <tr>\n",
       "      <th>982</th>\n",
       "      <td>28</td>\n",
       "      <td>3</td>\n",
       "      <td>2923</td>\n",
       "      <td>21</td>\n",
       "      <td>0</td>\n",
       "      <td>1</td>\n",
       "      <td>1</td>\n",
       "      <td>3</td>\n",
       "      <td>1</td>\n",
       "      <td>-1</td>\n",
       "    </tr>\n",
       "  </tbody>\n",
       "</table>\n",
       "<p>150 rows × 10 columns</p>\n",
       "</div>"
      ],
      "text/plain": [
       "     Age  Job  Credit amount  Duration  Sex_enc  Housing_enc  \\\n",
       "5     35    1           9055        36        1            0   \n",
       "8     61    1           3059        12        1            1   \n",
       "11    24    2           4308        48        0            2   \n",
       "18    44    3          12579        24        0            0   \n",
       "21    44    2           2647         6        1            2   \n",
       "..   ...  ...            ...       ...      ...          ...   \n",
       "972   29    0           1193        24        0            2   \n",
       "973   36    2           7297        60        1            2   \n",
       "975   57    1           1258        24        0            1   \n",
       "981   33    3           4844        48        1            2   \n",
       "982   28    3           2923        21        0            1   \n",
       "\n",
       "     Saving_accounts_enc  Checking_account_enc  Purpose_enc  outlier  \n",
       "5                      0                     0            3       -1  \n",
       "8                      3                     0            5       -1  \n",
       "11                     0                     1            0       -1  \n",
       "18                     0                     2            1       -1  \n",
       "21                     2                     1            5       -1  \n",
       "..                   ...                   ...          ...      ...  \n",
       "972                    0                     1            1       -1  \n",
       "973                    0                     1            0       -1  \n",
       "975                    2                     3            5       -1  \n",
       "981                    0                     0            0       -1  \n",
       "982                    1                     3            1       -1  \n",
       "\n",
       "[150 rows x 10 columns]"
      ]
     },
     "execution_count": 28,
     "metadata": {},
     "output_type": "execute_result"
    }
   ],
   "source": [
    "df[df['outlier']==-1]"
   ]
  },
  {
   "cell_type": "code",
   "execution_count": 31,
   "id": "502bf834",
   "metadata": {},
   "outputs": [
    {
     "data": {
      "text/plain": [
       " 1    850\n",
       "-1    150\n",
       "Name: outlier, dtype: int64"
      ]
     },
     "execution_count": 31,
     "metadata": {},
     "output_type": "execute_result"
    }
   ],
   "source": [
    "df['outlier'].value_counts()"
   ]
  },
  {
   "cell_type": "markdown",
   "id": "8d1f740c",
   "metadata": {},
   "source": [
    "Include the outliers in the dataset and the value of decision_function. We see that 31% of the values are considered outliers, which is excessive. Analyse the anomaly score and see that the most outliers appear with a value below -0.05 approximately."
   ]
  },
  {
   "cell_type": "code",
   "execution_count": 32,
   "id": "38f28938",
   "metadata": {},
   "outputs": [],
   "source": [
    "df['cluster_isoForest'] = outliers\n",
    "df['anomaly_score'] = anomaly_score"
   ]
  },
  {
   "cell_type": "code",
   "execution_count": 33,
   "id": "a10a30a0",
   "metadata": {},
   "outputs": [
    {
     "data": {
      "text/plain": [
       " 1    850\n",
       "-1    150\n",
       "Name: cluster_isoForest, dtype: int64"
      ]
     },
     "execution_count": 33,
     "metadata": {},
     "output_type": "execute_result"
    }
   ],
   "source": [
    "df['cluster_isoForest'].value_counts()"
   ]
  },
  {
   "cell_type": "code",
   "execution_count": 34,
   "id": "d7a813c0",
   "metadata": {},
   "outputs": [
    {
     "data": {
      "image/png": "[encoded data removed]",
      "text/plain": [
       "<Figure size 432x288 with 1 Axes>"
      ]
     },
     "metadata": {
      "needs_background": "light"
     },
     "output_type": "display_data"
    }
   ],
   "source": [
    "df['anomaly_score'].plot(kind='box');"
   ]
  },
  {
   "cell_type": "code",
   "execution_count": 35,
   "id": "2092cc68",
   "metadata": {},
   "outputs": [
    {
     "data": {
      "text/html": [
       "<div>\n",
       "<style scoped>\n",
       "    .dataframe tbody tr th:only-of-type {\n",
       "        vertical-align: middle;\n",
       "    }\n",
       "\n",
       "    .dataframe tbody tr th {\n",
       "        vertical-align: top;\n",
       "    }\n",
       "\n",
       "    .dataframe thead th {\n",
       "        text-align: right;\n",
       "    }\n",
       "</style>\n",
       "<table border=\"1\" class=\"dataframe\">\n",
       "  <thead>\n",
       "    <tr style=\"text-align: right;\">\n",
       "      <th></th>\n",
       "      <th>Age</th>\n",
       "      <th>Job</th>\n",
       "      <th>Credit amount</th>\n",
       "      <th>Duration</th>\n",
       "      <th>Sex_enc</th>\n",
       "      <th>Housing_enc</th>\n",
       "      <th>Saving_accounts_enc</th>\n",
       "      <th>Checking_account_enc</th>\n",
       "      <th>Purpose_enc</th>\n",
       "      <th>outlier</th>\n",
       "      <th>cluster_isoForest</th>\n",
       "      <th>anomaly_score</th>\n",
       "    </tr>\n",
       "  </thead>\n",
       "  <tbody>\n",
       "    <tr>\n",
       "      <th>326</th>\n",
       "      <td>49</td>\n",
       "      <td>2</td>\n",
       "      <td>5801</td>\n",
       "      <td>12</td>\n",
       "      <td>1</td>\n",
       "      <td>2</td>\n",
       "      <td>0</td>\n",
       "      <td>0</td>\n",
       "      <td>4</td>\n",
       "      <td>1</td>\n",
       "      <td>1</td>\n",
       "      <td>0.037843</td>\n",
       "    </tr>\n",
       "    <tr>\n",
       "      <th>162</th>\n",
       "      <td>36</td>\n",
       "      <td>2</td>\n",
       "      <td>1262</td>\n",
       "      <td>15</td>\n",
       "      <td>1</td>\n",
       "      <td>1</td>\n",
       "      <td>2</td>\n",
       "      <td>0</td>\n",
       "      <td>2</td>\n",
       "      <td>1</td>\n",
       "      <td>1</td>\n",
       "      <td>0.080944</td>\n",
       "    </tr>\n",
       "    <tr>\n",
       "      <th>176</th>\n",
       "      <td>42</td>\n",
       "      <td>2</td>\n",
       "      <td>2577</td>\n",
       "      <td>12</td>\n",
       "      <td>1</td>\n",
       "      <td>1</td>\n",
       "      <td>0</td>\n",
       "      <td>1</td>\n",
       "      <td>4</td>\n",
       "      <td>1</td>\n",
       "      <td>1</td>\n",
       "      <td>0.135369</td>\n",
       "    </tr>\n",
       "    <tr>\n",
       "      <th>584</th>\n",
       "      <td>52</td>\n",
       "      <td>3</td>\n",
       "      <td>2133</td>\n",
       "      <td>12</td>\n",
       "      <td>0</td>\n",
       "      <td>0</td>\n",
       "      <td>0</td>\n",
       "      <td>0</td>\n",
       "      <td>1</td>\n",
       "      <td>-1</td>\n",
       "      <td>-1</td>\n",
       "      <td>-0.015858</td>\n",
       "    </tr>\n",
       "    <tr>\n",
       "      <th>728</th>\n",
       "      <td>59</td>\n",
       "      <td>2</td>\n",
       "      <td>6416</td>\n",
       "      <td>48</td>\n",
       "      <td>0</td>\n",
       "      <td>2</td>\n",
       "      <td>0</td>\n",
       "      <td>2</td>\n",
       "      <td>0</td>\n",
       "      <td>-1</td>\n",
       "      <td>-1</td>\n",
       "      <td>-0.076040</td>\n",
       "    </tr>\n",
       "    <tr>\n",
       "      <th>624</th>\n",
       "      <td>65</td>\n",
       "      <td>2</td>\n",
       "      <td>2600</td>\n",
       "      <td>18</td>\n",
       "      <td>1</td>\n",
       "      <td>0</td>\n",
       "      <td>0</td>\n",
       "      <td>1</td>\n",
       "      <td>5</td>\n",
       "      <td>1</td>\n",
       "      <td>1</td>\n",
       "      <td>0.007762</td>\n",
       "    </tr>\n",
       "    <tr>\n",
       "      <th>963</th>\n",
       "      <td>35</td>\n",
       "      <td>2</td>\n",
       "      <td>2397</td>\n",
       "      <td>24</td>\n",
       "      <td>1</td>\n",
       "      <td>1</td>\n",
       "      <td>2</td>\n",
       "      <td>0</td>\n",
       "      <td>5</td>\n",
       "      <td>1</td>\n",
       "      <td>1</td>\n",
       "      <td>0.089930</td>\n",
       "    </tr>\n",
       "    <tr>\n",
       "      <th>444</th>\n",
       "      <td>30</td>\n",
       "      <td>3</td>\n",
       "      <td>5096</td>\n",
       "      <td>48</td>\n",
       "      <td>0</td>\n",
       "      <td>1</td>\n",
       "      <td>0</td>\n",
       "      <td>2</td>\n",
       "      <td>4</td>\n",
       "      <td>1</td>\n",
       "      <td>1</td>\n",
       "      <td>0.010820</td>\n",
       "    </tr>\n",
       "    <tr>\n",
       "      <th>140</th>\n",
       "      <td>27</td>\n",
       "      <td>0</td>\n",
       "      <td>709</td>\n",
       "      <td>6</td>\n",
       "      <td>1</td>\n",
       "      <td>1</td>\n",
       "      <td>3</td>\n",
       "      <td>3</td>\n",
       "      <td>1</td>\n",
       "      <td>-1</td>\n",
       "      <td>-1</td>\n",
       "      <td>-0.068943</td>\n",
       "    </tr>\n",
       "    <tr>\n",
       "      <th>493</th>\n",
       "      <td>38</td>\n",
       "      <td>2</td>\n",
       "      <td>368</td>\n",
       "      <td>6</td>\n",
       "      <td>1</td>\n",
       "      <td>1</td>\n",
       "      <td>0</td>\n",
       "      <td>2</td>\n",
       "      <td>5</td>\n",
       "      <td>1</td>\n",
       "      <td>1</td>\n",
       "      <td>0.103406</td>\n",
       "    </tr>\n",
       "  </tbody>\n",
       "</table>\n",
       "</div>"
      ],
      "text/plain": [
       "     Age  Job  Credit amount  Duration  Sex_enc  Housing_enc  \\\n",
       "326   49    2           5801        12        1            2   \n",
       "162   36    2           1262        15        1            1   \n",
       "176   42    2           2577        12        1            1   \n",
       "584   52    3           2133        12        0            0   \n",
       "728   59    2           6416        48        0            2   \n",
       "624   65    2           2600        18        1            0   \n",
       "963   35    2           2397        24        1            1   \n",
       "444   30    3           5096        48        0            1   \n",
       "140   27    0            709         6        1            1   \n",
       "493   38    2            368         6        1            1   \n",
       "\n",
       "     Saving_accounts_enc  Checking_account_enc  Purpose_enc  outlier  \\\n",
       "326                    0                     0            4        1   \n",
       "162                    2                     0            2        1   \n",
       "176                    0                     1            4        1   \n",
       "584                    0                     0            1       -1   \n",
       "728                    0                     2            0       -1   \n",
       "624                    0                     1            5        1   \n",
       "963                    2                     0            5        1   \n",
       "444                    0                     2            4        1   \n",
       "140                    3                     3            1       -1   \n",
       "493                    0                     2            5        1   \n",
       "\n",
       "     cluster_isoForest  anomaly_score  \n",
       "326                  1       0.037843  \n",
       "162                  1       0.080944  \n",
       "176                  1       0.135369  \n",
       "584                 -1      -0.015858  \n",
       "728                 -1      -0.076040  \n",
       "624                  1       0.007762  \n",
       "963                  1       0.089930  \n",
       "444                  1       0.010820  \n",
       "140                 -1      -0.068943  \n",
       "493                  1       0.103406  "
      ]
     },
     "execution_count": 35,
     "metadata": {},
     "output_type": "execute_result"
    }
   ],
   "source": [
    "df.sample(10)"
   ]
  },
  {
   "cell_type": "markdown",
   "id": "cd8b0cb0",
   "metadata": {},
   "source": [
    "To calculate the cut-off value, we will calculate the minimum of its confidence interval, CI, and consider values below this value as outliers to see how the number changes."
   ]
  },
  {
   "cell_type": "code",
   "execution_count": 36,
   "id": "37ae6a88",
   "metadata": {},
   "outputs": [
    {
     "name": "stdout",
     "output_type": "stream",
     "text": [
      "outliers mean:  0.06054256880899734\n",
      "outliers std:  0.055665377112936947\n",
      "outliers min:  0.004877191696060393\n"
     ]
    }
   ],
   "source": [
    "out_mean = float(df['anomaly_score'].mean())\n",
    "print('outliers mean: ',out_mean)\n",
    "out_std = float(df['anomaly_score'].std())\n",
    "print('outliers std: ',out_std)\n",
    "out_min = float(out_mean - out_std)\n",
    "print('outliers min: ',out_min)"
   ]
  },
  {
   "cell_type": "code",
   "execution_count": 37,
   "id": "d843e56d",
   "metadata": {},
   "outputs": [
    {
     "data": {
      "image/png": "[encoded data removed]",
      "text/plain": [
       "<Figure size 432x288 with 1 Axes>"
      ]
     },
     "metadata": {
      "needs_background": "light"
     },
     "output_type": "display_data"
    }
   ],
   "source": [
    "df.loc[df['cluster_isoForest'] == -1,['anomaly_score']].plot(kind='box')"
   ]
  },
  {
   "cell_type": "markdown",
   "id": "979a820b",
   "metadata": {},
   "source": [
    "Create a new variable in the dataset where we store the new value -1, which corresponds to 16.7% of the observations. We plot again to place the anomalies in the point cloud."
   ]
  },
  {
   "cell_type": "markdown",
   "id": "338f5823",
   "metadata": {},
   "source": [
    "__Please note__: in this type of model it is always necessary to evaluate with the clients the rate of abnormal registrations they are expecting."
   ]
  },
  {
   "cell_type": "code",
   "execution_count": 39,
   "id": "5efee4ac",
   "metadata": {},
   "outputs": [],
   "source": [
    "df['cluster_isoForest_end'] = np.where(df['anomaly_score'] < out_min,-1,1)"
   ]
  },
  {
   "cell_type": "code",
   "execution_count": 40,
   "id": "28e27016",
   "metadata": {},
   "outputs": [
    {
     "data": {
      "text/plain": [
       " 1    832\n",
       "-1    168\n",
       "Name: cluster_isoForest_end, dtype: int64"
      ]
     },
     "execution_count": 40,
     "metadata": {},
     "output_type": "execute_result"
    }
   ],
   "source": [
    "df['cluster_isoForest_end'].value_counts()"
   ]
  },
  {
   "cell_type": "code",
   "execution_count": 41,
   "id": "4deeded7",
   "metadata": {},
   "outputs": [
    {
     "data": {
      "image/png": "[encoded data removed]",
      "text/plain": [
       "<Figure size 432x288 with 1 Axes>"
      ]
     },
     "metadata": {
      "needs_background": "light"
     },
     "output_type": "display_data"
    }
   ],
   "source": [
    "plt.title('Isolation Forest')\n",
    "sns.scatterplot(x = X_pca[:,0], y = X_pca[:,1], hue=df['cluster_isoForest_end'], palette='rainbow');"
   ]
  }
 ],
 "metadata": {
  "kernelspec": {
   "display_name": "Python 3 (ipykernel)",
   "language": "python",
   "name": "python3"
  },
  "language_info": {
   "codemirror_mode": {
    "name": "ipython",
    "version": 3
   },
   "file_extension": ".py",
   "mimetype": "text/x-python",
   "name": "python",
   "nbconvert_exporter": "python",
   "pygments_lexer": "ipython3",
   "version": "3.7.15"
  },
  "varInspector": {
   "cols": {
    "lenName": 16,
    "lenType": 16,
    "lenVar": 40
   },
   "kernels_config": {
    "python": {
     "delete_cmd_postfix": "",
     "delete_cmd_prefix": "del ",
     "library": "var_list.py",
     "varRefreshCmd": "print(var_dic_list())"
    },
    "r": {
     "delete_cmd_postfix": ") ",
     "delete_cmd_prefix": "rm(",
     "library": "var_list.r",
     "varRefreshCmd": "cat(var_dic_list()) "
    }
   },
   "types_to_exclude": [
    "module",
    "function",
    "builtin_function_or_method",
    "instance",
    "_Feature"
   ],
   "window_display": false
  }
 },
 "nbformat": 4,
 "nbformat_minor": 5
}
