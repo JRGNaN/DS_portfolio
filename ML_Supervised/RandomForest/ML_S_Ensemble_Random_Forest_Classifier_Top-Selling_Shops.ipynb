{
 "cells": [
  {
   "cell_type": "markdown",
   "id": "de1b0c86",
   "metadata": {},
   "source": [
    "# ML: Supervised algorithm - Ensemble - Random Forest - Top-Selling Shops"
   ]
  },
  {
   "cell_type": "markdown",
   "id": "e4dd43c8",
   "metadata": {},
   "source": [
    "## Introduction"
   ]
  },
  {
   "cell_type": "markdown",
   "id": "bbcb5eff",
   "metadata": {},
   "source": [
    "We want to predict that there will be a high volume of baby car seat sales. For this, we will rely on the ISLR Carseats dataset that we can download from the statsmodels library."
   ]
  },
  {
   "cell_type": "markdown",
   "id": "8719af4c",
   "metadata": {},
   "source": [
    "## 1. Import of libraries"
   ]
  },
  {
   "cell_type": "code",
   "execution_count": 1,
   "id": "890708c6",
   "metadata": {},
   "outputs": [],
   "source": [
    "import numpy as np\n",
    "import pandas as pd\n",
    "import statsmodels.api as sm\n",
    "\n",
    "import matplotlib.pyplot as plt\n",
    "import seaborn as sns\n",
    "\n",
    "from sklearn.model_selection import train_test_split\n",
    "from sklearn.ensemble import RandomForestClassifier\n",
    "from sklearn.compose import ColumnTransformer\n",
    "from sklearn.preprocessing import OneHotEncoder\n",
    "from sklearn.metrics import accuracy_score\n",
    "from sklearn.metrics import confusion_matrix"
   ]
  },
  {
   "cell_type": "markdown",
   "id": "6c27f0fc",
   "metadata": {},
   "source": [
    "Let's start by preparing our working environment by loading the necessary libraries to solve our problem. This time, we are going to develop the problem using the random forest algorithm, so we will need the RandomForestClassifier function from the sklearn package. "
   ]
  },
  {
   "cell_type": "markdown",
   "id": "695f7554",
   "metadata": {},
   "source": [
    "## 2. Load datasets"
   ]
  },
  {
   "cell_type": "code",
   "execution_count": 2,
   "id": "9c7b8761",
   "metadata": {},
   "outputs": [
    {
     "name": "stdout",
     "output_type": "stream",
     "text": [
      ".. container::\n",
      "\n",
      "   ======== ===============\n",
      "   Carseats R Documentation\n",
      "   ======== ===============\n",
      "\n",
      "   .. rubric:: Sales of Child Car Seats\n",
      "      :name: sales-of-child-car-seats\n",
      "\n",
      "   .. rubric:: Description\n",
      "      :name: description\n",
      "\n",
      "   A simulated data set containing sales of child car seats at 400\n",
      "   different stores.\n",
      "\n",
      "   .. rubric:: Usage\n",
      "      :name: usage\n",
      "\n",
      "   ::\n",
      "\n",
      "      Carseats\n",
      "\n",
      "   .. rubric:: Format\n",
      "      :name: format\n",
      "\n",
      "   A data frame with 400 observations on the following 11 variables.\n",
      "\n",
      "   ``Sales``\n",
      "      Unit sales (in thousands) at each location\n",
      "\n",
      "   ``CompPrice``\n",
      "      Price charged by competitor at each location\n",
      "\n",
      "   ``Income``\n",
      "      Community income level (in thousands of dollars)\n",
      "\n",
      "   ``Advertising``\n",
      "      Local advertising budget for company at each location (in\n",
      "      thousands of dollars)\n",
      "\n",
      "   ``Population``\n",
      "      Population size in region (in thousands)\n",
      "\n",
      "   ``Price``\n",
      "      Price company charges for car seats at each site\n",
      "\n",
      "   ``ShelveLoc``\n",
      "      A factor with levels ``Bad``, ``Good`` and ``Medium`` indicating\n",
      "      the quality of the shelving location for the car seats at each\n",
      "      site\n",
      "\n",
      "   ``Age``\n",
      "      Average age of the local population\n",
      "\n",
      "   ``Education``\n",
      "      Education level at each location\n",
      "\n",
      "   ``Urban``\n",
      "      A factor with levels ``No`` and ``Yes`` to indicate whether the\n",
      "      store is in an urban or rural location\n",
      "\n",
      "   ``US``\n",
      "      A factor with levels ``No`` and ``Yes`` to indicate whether the\n",
      "      store is in the US or not\n",
      "\n",
      "   .. rubric:: Source\n",
      "      :name: source\n",
      "\n",
      "   Simulated data\n",
      "\n",
      "   .. rubric:: References\n",
      "      :name: references\n",
      "\n",
      "   James, G., Witten, D., Hastie, T., and Tibshirani, R. (2013) *An\n",
      "   Introduction to Statistical Learning with applications in R*,\n",
      "   https://www.statlearning.com, Springer-Verlag, New York\n",
      "\n",
      "   .. rubric:: Examples\n",
      "      :name: examples\n",
      "\n",
      "   ::\n",
      "\n",
      "      summary(Carseats)\n",
      "      lm.fit=lm(Sales~Advertising+Price,data=Carseats)\n",
      "\n"
     ]
    }
   ],
   "source": [
    "# Generate data for the classification problem\n",
    "carseats = sm.datasets.get_rdataset(\"Carseats\", \"ISLR\")\n",
    "\n",
    "# Dataset description\n",
    "dataset = carseats.data\n",
    "print(carseats.__doc__)"
   ]
  },
  {
   "cell_type": "markdown",
   "id": "158a3aa7",
   "metadata": {},
   "source": [
    "Download the dataset associated with the ISLR Carseats problem from the statsmodels.api package."
   ]
  },
  {
   "cell_type": "markdown",
   "id": "46514c36",
   "metadata": {},
   "source": [
    "## 3. Dataset analysis"
   ]
  },
  {
   "cell_type": "code",
   "execution_count": 3,
   "id": "7a365fc9",
   "metadata": {
    "scrolled": true
   },
   "outputs": [
    {
     "data": {
      "text/html": [
       "<div>\n",
       "<style scoped>\n",
       "    .dataframe tbody tr th:only-of-type {\n",
       "        vertical-align: middle;\n",
       "    }\n",
       "\n",
       "    .dataframe tbody tr th {\n",
       "        vertical-align: top;\n",
       "    }\n",
       "\n",
       "    .dataframe thead th {\n",
       "        text-align: right;\n",
       "    }\n",
       "</style>\n",
       "<table border=\"1\" class=\"dataframe\">\n",
       "  <thead>\n",
       "    <tr style=\"text-align: right;\">\n",
       "      <th></th>\n",
       "      <th>Sales</th>\n",
       "      <th>CompPrice</th>\n",
       "      <th>Income</th>\n",
       "      <th>Advertising</th>\n",
       "      <th>Population</th>\n",
       "      <th>Price</th>\n",
       "      <th>ShelveLoc</th>\n",
       "      <th>Age</th>\n",
       "      <th>Education</th>\n",
       "      <th>Urban</th>\n",
       "      <th>US</th>\n",
       "    </tr>\n",
       "  </thead>\n",
       "  <tbody>\n",
       "    <tr>\n",
       "      <th>0</th>\n",
       "      <td>9.50</td>\n",
       "      <td>138</td>\n",
       "      <td>73</td>\n",
       "      <td>11</td>\n",
       "      <td>276</td>\n",
       "      <td>120</td>\n",
       "      <td>Bad</td>\n",
       "      <td>42</td>\n",
       "      <td>17</td>\n",
       "      <td>Yes</td>\n",
       "      <td>Yes</td>\n",
       "    </tr>\n",
       "    <tr>\n",
       "      <th>1</th>\n",
       "      <td>11.22</td>\n",
       "      <td>111</td>\n",
       "      <td>48</td>\n",
       "      <td>16</td>\n",
       "      <td>260</td>\n",
       "      <td>83</td>\n",
       "      <td>Good</td>\n",
       "      <td>65</td>\n",
       "      <td>10</td>\n",
       "      <td>Yes</td>\n",
       "      <td>Yes</td>\n",
       "    </tr>\n",
       "    <tr>\n",
       "      <th>2</th>\n",
       "      <td>10.06</td>\n",
       "      <td>113</td>\n",
       "      <td>35</td>\n",
       "      <td>10</td>\n",
       "      <td>269</td>\n",
       "      <td>80</td>\n",
       "      <td>Medium</td>\n",
       "      <td>59</td>\n",
       "      <td>12</td>\n",
       "      <td>Yes</td>\n",
       "      <td>Yes</td>\n",
       "    </tr>\n",
       "    <tr>\n",
       "      <th>3</th>\n",
       "      <td>7.40</td>\n",
       "      <td>117</td>\n",
       "      <td>100</td>\n",
       "      <td>4</td>\n",
       "      <td>466</td>\n",
       "      <td>97</td>\n",
       "      <td>Medium</td>\n",
       "      <td>55</td>\n",
       "      <td>14</td>\n",
       "      <td>Yes</td>\n",
       "      <td>Yes</td>\n",
       "    </tr>\n",
       "    <tr>\n",
       "      <th>4</th>\n",
       "      <td>4.15</td>\n",
       "      <td>141</td>\n",
       "      <td>64</td>\n",
       "      <td>3</td>\n",
       "      <td>340</td>\n",
       "      <td>128</td>\n",
       "      <td>Bad</td>\n",
       "      <td>38</td>\n",
       "      <td>13</td>\n",
       "      <td>Yes</td>\n",
       "      <td>No</td>\n",
       "    </tr>\n",
       "  </tbody>\n",
       "</table>\n",
       "</div>"
      ],
      "text/plain": [
       "   Sales  CompPrice  Income  Advertising  Population  Price ShelveLoc  Age  \\\n",
       "0   9.50        138      73           11         276    120       Bad   42   \n",
       "1  11.22        111      48           16         260     83      Good   65   \n",
       "2  10.06        113      35           10         269     80    Medium   59   \n",
       "3   7.40        117     100            4         466     97    Medium   55   \n",
       "4   4.15        141      64            3         340    128       Bad   38   \n",
       "\n",
       "   Education Urban   US  \n",
       "0         17   Yes  Yes  \n",
       "1         10   Yes  Yes  \n",
       "2         12   Yes  Yes  \n",
       "3         14   Yes  Yes  \n",
       "4         13   Yes   No  "
      ]
     },
     "execution_count": 3,
     "metadata": {},
     "output_type": "execute_result"
    }
   ],
   "source": [
    "# Explorar dataset \n",
    "dataset.head()"
   ]
  },
  {
   "cell_type": "markdown",
   "id": "b1191955",
   "metadata": {},
   "source": [
    "Using the head() command we do an exploratory analysis of our data, visualising the first 5 rows of the dataset."
   ]
  },
  {
   "cell_type": "code",
   "execution_count": 4,
   "id": "c601bebd",
   "metadata": {},
   "outputs": [],
   "source": [
    "# Create the variable 'target' with which we will do the classification.\n",
    "dataset['target'] = np.where(dataset.Sales > 8, 0, 1)\n",
    "\n",
    "# Eliminate the variable 'Sales' so as not to duplicate information.\n",
    "dataset.drop(columns = 'Sales', inplace=True)"
   ]
  },
  {
   "cell_type": "code",
   "execution_count": 5,
   "id": "274cf8d6",
   "metadata": {},
   "outputs": [
    {
     "data": {
      "text/html": [
       "<div>\n",
       "<style scoped>\n",
       "    .dataframe tbody tr th:only-of-type {\n",
       "        vertical-align: middle;\n",
       "    }\n",
       "\n",
       "    .dataframe tbody tr th {\n",
       "        vertical-align: top;\n",
       "    }\n",
       "\n",
       "    .dataframe thead th {\n",
       "        text-align: right;\n",
       "    }\n",
       "</style>\n",
       "<table border=\"1\" class=\"dataframe\">\n",
       "  <thead>\n",
       "    <tr style=\"text-align: right;\">\n",
       "      <th></th>\n",
       "      <th>CompPrice</th>\n",
       "      <th>Income</th>\n",
       "      <th>Advertising</th>\n",
       "      <th>Population</th>\n",
       "      <th>Price</th>\n",
       "      <th>ShelveLoc</th>\n",
       "      <th>Age</th>\n",
       "      <th>Education</th>\n",
       "      <th>Urban</th>\n",
       "      <th>US</th>\n",
       "      <th>target</th>\n",
       "    </tr>\n",
       "  </thead>\n",
       "  <tbody>\n",
       "    <tr>\n",
       "      <th>0</th>\n",
       "      <td>138</td>\n",
       "      <td>73</td>\n",
       "      <td>11</td>\n",
       "      <td>276</td>\n",
       "      <td>120</td>\n",
       "      <td>Bad</td>\n",
       "      <td>42</td>\n",
       "      <td>17</td>\n",
       "      <td>Yes</td>\n",
       "      <td>Yes</td>\n",
       "      <td>0</td>\n",
       "    </tr>\n",
       "    <tr>\n",
       "      <th>1</th>\n",
       "      <td>111</td>\n",
       "      <td>48</td>\n",
       "      <td>16</td>\n",
       "      <td>260</td>\n",
       "      <td>83</td>\n",
       "      <td>Good</td>\n",
       "      <td>65</td>\n",
       "      <td>10</td>\n",
       "      <td>Yes</td>\n",
       "      <td>Yes</td>\n",
       "      <td>0</td>\n",
       "    </tr>\n",
       "    <tr>\n",
       "      <th>2</th>\n",
       "      <td>113</td>\n",
       "      <td>35</td>\n",
       "      <td>10</td>\n",
       "      <td>269</td>\n",
       "      <td>80</td>\n",
       "      <td>Medium</td>\n",
       "      <td>59</td>\n",
       "      <td>12</td>\n",
       "      <td>Yes</td>\n",
       "      <td>Yes</td>\n",
       "      <td>0</td>\n",
       "    </tr>\n",
       "    <tr>\n",
       "      <th>3</th>\n",
       "      <td>117</td>\n",
       "      <td>100</td>\n",
       "      <td>4</td>\n",
       "      <td>466</td>\n",
       "      <td>97</td>\n",
       "      <td>Medium</td>\n",
       "      <td>55</td>\n",
       "      <td>14</td>\n",
       "      <td>Yes</td>\n",
       "      <td>Yes</td>\n",
       "      <td>1</td>\n",
       "    </tr>\n",
       "    <tr>\n",
       "      <th>4</th>\n",
       "      <td>141</td>\n",
       "      <td>64</td>\n",
       "      <td>3</td>\n",
       "      <td>340</td>\n",
       "      <td>128</td>\n",
       "      <td>Bad</td>\n",
       "      <td>38</td>\n",
       "      <td>13</td>\n",
       "      <td>Yes</td>\n",
       "      <td>No</td>\n",
       "      <td>1</td>\n",
       "    </tr>\n",
       "  </tbody>\n",
       "</table>\n",
       "</div>"
      ],
      "text/plain": [
       "   CompPrice  Income  Advertising  Population  Price ShelveLoc  Age  \\\n",
       "0        138      73           11         276    120       Bad   42   \n",
       "1        111      48           16         260     83      Good   65   \n",
       "2        113      35           10         269     80    Medium   59   \n",
       "3        117     100            4         466     97    Medium   55   \n",
       "4        141      64            3         340    128       Bad   38   \n",
       "\n",
       "   Education Urban   US  target  \n",
       "0         17   Yes  Yes       0  \n",
       "1         10   Yes  Yes       0  \n",
       "2         12   Yes  Yes       0  \n",
       "3         14   Yes  Yes       1  \n",
       "4         13   Yes   No       1  "
      ]
     },
     "execution_count": 5,
     "metadata": {},
     "output_type": "execute_result"
    }
   ],
   "source": [
    "# Verify variable has been created correctly.\n",
    "dataset.head()"
   ]
  },
  {
   "cell_type": "markdown",
   "id": "4f5cf6b2",
   "metadata": {},
   "source": [
    "As we saw in the decision tree case study, we need to create the model's target variable. This variable will separate the sales considered high from the rest. For this problem, sales are considered high when a shop exceeds 8,000 items in the Sales variable (remember that the data in the column is considered in thousands)."
   ]
  },
  {
   "cell_type": "markdown",
   "id": "89e610fc",
   "metadata": {},
   "source": [
    "## 4. Models training"
   ]
  },
  {
   "cell_type": "code",
   "execution_count": 6,
   "id": "953717a0",
   "metadata": {},
   "outputs": [],
   "source": [
    "# Separate independent and dependent variables \n",
    "X = dataset.drop('target', axis=1)\n",
    "y = dataset.target"
   ]
  },
  {
   "cell_type": "markdown",
   "id": "c26c5d14",
   "metadata": {},
   "source": [
    "Separate the predictor variables from the independent variable by creating the X and y datasets."
   ]
  },
  {
   "cell_type": "code",
   "execution_count": 7,
   "id": "36274c16",
   "metadata": {},
   "outputs": [],
   "source": [
    "X_train, X_test, y_train, y_test = train_test_split(X,\n",
    "                                                    y,\n",
    "                                                    test_size    = 0.30,\n",
    "                                                    random_state = 1234,\n",
    "                                                    shuffle      = True)"
   ]
  },
  {
   "cell_type": "markdown",
   "id": "4cd310c2",
   "metadata": {},
   "source": [
    "Create our train and test dataset that we will use later to evaluate the model. On this occasion, we will leave 30% of the samples for the test."
   ]
  },
  {
   "cell_type": "code",
   "execution_count": 8,
   "id": "28a492e5",
   "metadata": {},
   "outputs": [],
   "source": [
    "# One-hot-encoding de las variables categóricas\n",
    "\n",
    "# We identify numerical and categorical variables\n",
    "cat_cols = X_train.select_dtypes(include=['object', 'category']).columns.to_list()\n",
    "numeric_cols = X_train.select_dtypes(include=['float64', 'int']).columns.to_list()\n",
    "\n",
    "# We define the one-hot-encoding transformation to the categorical variables\n",
    "preprocessor = ColumnTransformer([('onehot', OneHotEncoder(handle_unknown='ignore'), cat_cols)],remainder='passthrough')"
   ]
  },
  {
   "cell_type": "markdown",
   "id": "7341f9b8",
   "metadata": {},
   "source": [
    "Like the DecisionTreeClassifier function, the RandonForestClassifier function does not support untransformed categorical variables. Remember that this limitation is not associated with the algorithm, but rather with the way sklearn processes the data. "
   ]
  },
  {
   "cell_type": "markdown",
   "id": "2c8d1344",
   "metadata": {},
   "source": [
    "__Further information__: there are other python libraries for solving random forest that do not require this transformation, such as H20.\n",
    "You can check the documentation in the following link:\n",
    "\n",
    "* https://docs.h2o.ai/h2o/latest-stable/h2o-docs/index.html"
   ]
  },
  {
   "cell_type": "code",
   "execution_count": 9,
   "id": "e288b902",
   "metadata": {},
   "outputs": [],
   "source": [
    "# Apply the one-hot-encoding transformation to our dataset. \n",
    "X_train_prep = preprocessor.fit_transform(X_train)\n",
    "X_test_prep  = preprocessor.transform(X_test)\n",
    "\n",
    "# Name of all columns\n",
    "encoded_cat = preprocessor.named_transformers_['onehot'].get_feature_names_out(cat_cols)\n",
    "labels = np.concatenate([encoded_cat,numeric_cols])\n",
    "\n",
    "# Conversion to dataframe\n",
    "X_train_prep = pd.DataFrame(X_train_prep, columns=labels)\n",
    "X_test_prep  = pd.DataFrame(X_test_prep, columns=labels)"
   ]
  },
  {
   "cell_type": "markdown",
   "id": "4377b7d1",
   "metadata": {},
   "source": [
    "Define the transformation using the train dataset and then apply it to both the train and test datasets. "
   ]
  },
  {
   "cell_type": "markdown",
   "id": "e6fc5412",
   "metadata": {},
   "source": [
    "### Model 1"
   ]
  },
  {
   "cell_type": "code",
   "execution_count": 10,
   "id": "fc53f39a",
   "metadata": {},
   "outputs": [
    {
     "data": {
      "text/plain": [
       "RandomForestClassifier(max_depth=20, random_state=1234)"
      ]
     },
     "execution_count": 10,
     "metadata": {},
     "output_type": "execute_result"
    }
   ],
   "source": [
    "# Initialising the model using the default parameters \n",
    "rforest_model = RandomForestClassifier(random_state = 1234, max_depth = 20)\n",
    "\n",
    "# Fitting the model to the data\n",
    "rforest_model.fit(X_train_prep, y_train)"
   ]
  },
  {
   "cell_type": "markdown",
   "id": "daf40c8e",
   "metadata": {},
   "source": [
    "Finally, we define our random forest model. Here, we set as usual the random sampling seed and limit the tree depth to 20 using the hyperparameter max_depth."
   ]
  },
  {
   "cell_type": "markdown",
   "id": "d8f02f57",
   "metadata": {},
   "source": [
    "__Further information__: you can check the list of hyperparameters available for RandonForestClassifier at the following link\n",
    "* https://scikit-learn.org/stable/modules/generated/sklearn.ensemble.RandomForestClassifier.html"
   ]
  },
  {
   "cell_type": "markdown",
   "id": "f5e803da",
   "metadata": {},
   "source": [
    "Among all the hyperparameters available, we can highlight above all those associated with limiting the growth of the tree and those that control the number of estimators or trees. \n",
    "\n",
    "* n_estimator: sets the number of trees (or experts) that we will use for training.\n",
    "* min_samples_leaf: is the minimum number of observations a leaf should have. \n",
    "* max_features: is the maximum number of predictor variables we will consider for each tree. Note that as we use random sampling, it could be the case that we use different variables for different trees, which would help us to reduce the bias in the prediction. \n",
    "* ccp_alpha: associated with the regularisation parameter. Remember that this parameter penalises the complexity of the tree associated with the number of nodes created. "
   ]
  },
  {
   "cell_type": "code",
   "execution_count": 11,
   "id": "04916e5f",
   "metadata": {},
   "outputs": [
    {
     "name": "stdout",
     "output_type": "stream",
     "text": [
      "Nº of trees (estimators): 100\n",
      "Train model predictio: 1.0\n",
      "Test model predictio: 0.8833333333333333\n"
     ]
    }
   ],
   "source": [
    "# Predictions\n",
    "y_pred_train = rforest_model.predict(X_train_prep)\n",
    "y_pred_test = rforest_model.predict(X_test_prep)\n",
    "\n",
    "# Model info.\n",
    "print(\"Nº of trees (estimators):\", len(rforest_model.estimators_))\n",
    "print(\"Train model predictio:\", accuracy_score(y_train, y_pred_train, normalize=True))\n",
    "print(\"Test model predictio:\", accuracy_score(y_test, y_pred_test, normalize=True))"
   ]
  },
  {
   "cell_type": "code",
   "execution_count": 12,
   "id": "8845e23e",
   "metadata": {},
   "outputs": [
    {
     "name": "stdout",
     "output_type": "stream",
     "text": [
      "              precision    recall  f1-score   support\n",
      "\n",
      "           0       0.88      0.80      0.83        44\n",
      "           1       0.89      0.93      0.91        76\n",
      "\n",
      "    accuracy                           0.88       120\n",
      "   macro avg       0.88      0.86      0.87       120\n",
      "weighted avg       0.88      0.88      0.88       120\n",
      "\n"
     ]
    }
   ],
   "source": [
    "from sklearn.metrics import classification_report\n",
    "print(classification_report(y_test, y_pred_test))"
   ]
  },
  {
   "cell_type": "markdown",
   "id": "8de58a36",
   "metadata": {},
   "source": [
    "Make the prediction for the test and train set and compare the metrics. \n",
    "\n",
    "In this case, with 100 trees used as estimators, we obtain an accuracy of 100% in the train set and 83% in the test set. As we do not want our algorithm to overfit the train data, we will apply some of the hyperparameters we have seen to limit the size of the tree."
   ]
  },
  {
   "cell_type": "markdown",
   "id": "0a738dbe",
   "metadata": {},
   "source": [
    "### Model 2"
   ]
  },
  {
   "cell_type": "code",
   "execution_count": 13,
   "id": "effd484b",
   "metadata": {},
   "outputs": [
    {
     "data": {
      "text/plain": [
       "RandomForestClassifier(max_depth=5, n_estimators=7, random_state=1234)"
      ]
     },
     "execution_count": 13,
     "metadata": {},
     "output_type": "execute_result"
    }
   ],
   "source": [
    "# Initialising the model using the default parameters \n",
    "rforest_model_2 = RandomForestClassifier(random_state = 1234, max_depth = 5, n_estimators= 7)\n",
    "\n",
    "# Fitting the model to the data\n",
    "rforest_model_2.fit(X_train_prep, y_train)"
   ]
  },
  {
   "cell_type": "markdown",
   "id": "d13aa094",
   "metadata": {},
   "source": [
    "On this occasion, we are going to try limiting the number of trees to be trained and setting their maximum depth to 5 (max_depth)."
   ]
  },
  {
   "cell_type": "code",
   "execution_count": 14,
   "id": "955ee244",
   "metadata": {},
   "outputs": [
    {
     "name": "stdout",
     "output_type": "stream",
     "text": [
      "Nº of trees (estimators): 7\n",
      "Train model predictio: 0.9214285714285714\n",
      "Test model predictio: 0.8583333333333333\n"
     ]
    }
   ],
   "source": [
    "# Predictions\n",
    "y_pred_train = rforest_model_2.predict(X_train_prep)\n",
    "y_pred_test = rforest_model_2.predict(X_test_prep)\n",
    "\n",
    "# Model info.\n",
    "print(\"Nº of trees (estimators):\", len(rforest_model_2.estimators_))\n",
    "print(\"Train model predictio:\", accuracy_score(y_train, y_pred_train, normalize=True))\n",
    "print(\"Test model predictio:\", accuracy_score(y_test, y_pred_test, normalize=True))"
   ]
  },
  {
   "cell_type": "code",
   "execution_count": 15,
   "id": "0e9f1118",
   "metadata": {},
   "outputs": [
    {
     "name": "stdout",
     "output_type": "stream",
     "text": [
      "              precision    recall  f1-score   support\n",
      "\n",
      "           0       0.79      0.84      0.81        44\n",
      "           1       0.90      0.87      0.89        76\n",
      "\n",
      "    accuracy                           0.86       120\n",
      "   macro avg       0.85      0.85      0.85       120\n",
      "weighted avg       0.86      0.86      0.86       120\n",
      "\n"
     ]
    }
   ],
   "source": [
    "from sklearn.metrics import classification_report\n",
    "print(classification_report(y_test, y_pred_test))"
   ]
  },
  {
   "cell_type": "markdown",
   "id": "a50269e1",
   "metadata": {},
   "source": [
    "Verifying the results by making the prediction in both train and test where we found that with only 7 trees, we are able to find a good approximation, an accuracy of 92% in the train and 85% in the test."
   ]
  },
  {
   "cell_type": "markdown",
   "id": "fe98c3d5",
   "metadata": {},
   "source": [
    "__Please note__: remember that for the random forest algorithm, increasing the number of estimators does not always improve the metric as it reaches a point where it stabilises. Think about the following example, if we are voting between class A and class B with a group of experts, if we obtain A as the final result, indiscriminately increasing the number of experts does not make class A more certain."
   ]
  },
  {
   "cell_type": "code",
   "execution_count": 16,
   "id": "06c6fc83",
   "metadata": {},
   "outputs": [
    {
     "name": "stderr",
     "output_type": "stream",
     "text": [
      "C:\\Users\\joaqu\\anaconda3\\envs\\Data_Science\\lib\\site-packages\\sklearn\\ensemble\\_forest.py:564: UserWarning: Some inputs do not have OOB scores. This probably means too few trees were used to compute any reliable OOB estimates.\n",
      "  UserWarning,\n",
      "C:\\Users\\joaqu\\anaconda3\\envs\\Data_Science\\lib\\site-packages\\sklearn\\ensemble\\_forest.py:564: UserWarning: Some inputs do not have OOB scores. This probably means too few trees were used to compute any reliable OOB estimates.\n",
      "  UserWarning,\n",
      "C:\\Users\\joaqu\\anaconda3\\envs\\Data_Science\\lib\\site-packages\\sklearn\\ensemble\\_forest.py:564: UserWarning: Some inputs do not have OOB scores. This probably means too few trees were used to compute any reliable OOB estimates.\n",
      "  UserWarning,\n",
      "C:\\Users\\joaqu\\anaconda3\\envs\\Data_Science\\lib\\site-packages\\sklearn\\ensemble\\_forest.py:564: UserWarning: Some inputs do not have OOB scores. This probably means too few trees were used to compute any reliable OOB estimates.\n",
      "  UserWarning,\n",
      "C:\\Users\\joaqu\\anaconda3\\envs\\Data_Science\\lib\\site-packages\\sklearn\\ensemble\\_forest.py:564: UserWarning: Some inputs do not have OOB scores. This probably means too few trees were used to compute any reliable OOB estimates.\n",
      "  UserWarning,\n",
      "C:\\Users\\joaqu\\anaconda3\\envs\\Data_Science\\lib\\site-packages\\sklearn\\ensemble\\_forest.py:564: UserWarning: Some inputs do not have OOB scores. This probably means too few trees were used to compute any reliable OOB estimates.\n",
      "  UserWarning,\n",
      "C:\\Users\\joaqu\\anaconda3\\envs\\Data_Science\\lib\\site-packages\\sklearn\\ensemble\\_forest.py:564: UserWarning: Some inputs do not have OOB scores. This probably means too few trees were used to compute any reliable OOB estimates.\n",
      "  UserWarning,\n",
      "C:\\Users\\joaqu\\anaconda3\\envs\\Data_Science\\lib\\site-packages\\sklearn\\ensemble\\_forest.py:564: UserWarning: Some inputs do not have OOB scores. This probably means too few trees were used to compute any reliable OOB estimates.\n",
      "  UserWarning,\n",
      "C:\\Users\\joaqu\\anaconda3\\envs\\Data_Science\\lib\\site-packages\\sklearn\\ensemble\\_forest.py:564: UserWarning: Some inputs do not have OOB scores. This probably means too few trees were used to compute any reliable OOB estimates.\n",
      "  UserWarning,\n",
      "C:\\Users\\joaqu\\anaconda3\\envs\\Data_Science\\lib\\site-packages\\sklearn\\ensemble\\_forest.py:564: UserWarning: Some inputs do not have OOB scores. This probably means too few trees were used to compute any reliable OOB estimates.\n",
      "  UserWarning,\n",
      "C:\\Users\\joaqu\\anaconda3\\envs\\Data_Science\\lib\\site-packages\\sklearn\\ensemble\\_forest.py:564: UserWarning: Some inputs do not have OOB scores. This probably means too few trees were used to compute any reliable OOB estimates.\n",
      "  UserWarning,\n",
      "C:\\Users\\joaqu\\anaconda3\\envs\\Data_Science\\lib\\site-packages\\sklearn\\ensemble\\_forest.py:564: UserWarning: Some inputs do not have OOB scores. This probably means too few trees were used to compute any reliable OOB estimates.\n",
      "  UserWarning,\n",
      "C:\\Users\\joaqu\\anaconda3\\envs\\Data_Science\\lib\\site-packages\\sklearn\\ensemble\\_forest.py:564: UserWarning: Some inputs do not have OOB scores. This probably means too few trees were used to compute any reliable OOB estimates.\n",
      "  UserWarning,\n"
     ]
    },
    {
     "name": "stdout",
     "output_type": "stream",
     "text": [
      "Optimal value of n_estimators: 21\n",
      "Optimal test accuracy: 0.8583333333333333\n"
     ]
    },
    {
     "data": {
      "image/png": "[encoded data removed]",
      "text/plain": [
       "<Figure size 600x384 with 1 Axes>"
      ]
     },
     "metadata": {},
     "output_type": "display_data"
    }
   ],
   "source": [
    "# Function for estimating the number of optimal estimators  \n",
    "#--------------------------------------------------------\n",
    "train_scores = []\n",
    "test_scores = []\n",
    "\n",
    "# Range of estimators \n",
    "estimator_range = range(1, 150, 1)\n",
    "\n",
    "# Loop to train a model with each value of n_estimators and extract its error \n",
    "for n_estimators in estimator_range:\n",
    "    modelo = RandomForestClassifier(\n",
    "                n_estimators = n_estimators,\n",
    "                criterion    = 'gini',\n",
    "                max_depth    = 10,\n",
    "                max_features = 'auto',\n",
    "                oob_score    = True,\n",
    "                random_state = 1234\n",
    "             )\n",
    "    modelo.fit(X_train_prep, y_train)\n",
    "    y_pred_train = modelo.predict(X_train_prep)\n",
    "    train_scores.append(accuracy_score(y_train, y_pred_train, normalize=True))\n",
    "    y_pred_test = modelo.predict(X_test_prep)\n",
    "    test_scores.append(accuracy_score(y_test, y_pred_test, normalize=True))\n",
    "    \n",
    "# Visualisation showing the evolution of errors\n",
    "fig, ax = plt.subplots(figsize=(6, 3.84))\n",
    "ax.plot(estimator_range, train_scores, label=\"train scores\")\n",
    "ax.plot(estimator_range, test_scores, label=\"test scores\")\n",
    "ax.plot(estimator_range[np.argmax(test_scores)], max(test_scores),\n",
    "        marker='o', color = \"red\", label=\"max score\")\n",
    "ax.set_ylabel(\"Accuracy\")\n",
    "ax.set_xlabel(\"n_estimators\")\n",
    "ax.set_title(\"Evolution of accuracy vs number of trees\")\n",
    "plt.legend();\n",
    "print(f\"Optimal value of n_estimators: {estimator_range[np.argmax(test_scores)]}\")\n",
    "print(f\"Optimal test accuracy: {max(test_scores)}\")"
   ]
  },
  {
   "cell_type": "markdown",
   "id": "4f3c5fb0",
   "metadata": {},
   "source": [
    "As we can see, we notice that the metric improves as we include more estimators in the model. However, after a certain number (around 20 trees) the metric stabilises, with little difference observed.  \n",
    "\n",
    "Finally, with this configuration we have found that the best random forest model is the one with 21 trees, obtaining 85.83% accuracy. "
   ]
  }
 ],
 "metadata": {
  "kernelspec": {
   "display_name": "Python 3 (ipykernel)",
   "language": "python",
   "name": "python3"
  },
  "language_info": {
   "codemirror_mode": {
    "name": "ipython",
    "version": 3
   },
   "file_extension": ".py",
   "mimetype": "text/x-python",
   "name": "python",
   "nbconvert_exporter": "python",
   "pygments_lexer": "ipython3",
   "version": "3.7.15"
  },
  "varInspector": {
   "cols": {
    "lenName": 16,
    "lenType": 16,
    "lenVar": 40
   },
   "kernels_config": {
    "python": {
     "delete_cmd_postfix": "",
     "delete_cmd_prefix": "del ",
     "library": "var_list.py",
     "varRefreshCmd": "print(var_dic_list())"
    },
    "r": {
     "delete_cmd_postfix": ") ",
     "delete_cmd_prefix": "rm(",
     "library": "var_list.r",
     "varRefreshCmd": "cat(var_dic_list()) "
    }
   },
   "types_to_exclude": [
    "module",
    "function",
    "builtin_function_or_method",
    "instance",
    "_Feature"
   ],
   "window_display": false
  }
 },
 "nbformat": 4,
 "nbformat_minor": 5
}
