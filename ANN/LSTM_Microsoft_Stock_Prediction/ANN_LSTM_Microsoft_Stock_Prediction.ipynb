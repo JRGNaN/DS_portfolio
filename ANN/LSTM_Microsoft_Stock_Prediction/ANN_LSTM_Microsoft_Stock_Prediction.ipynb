{
 "cells": [
  {
   "cell_type": "markdown",
   "id": "0dd590c4",
   "metadata": {},
   "source": [
    "# ANN - LSTM - Microsoft Stock Prediction"
   ]
  },
  {
   "cell_type": "markdown",
   "id": "fd9a3d27",
   "metadata": {},
   "source": [
    "## Introduction"
   ]
  },
  {
   "cell_type": "markdown",
   "id": "b4862f7b",
   "metadata": {},
   "source": [
    "### Práctica. Predicción de Acción de Microsoft"
   ]
  },
  {
   "cell_type": "markdown",
   "id": "28598db4",
   "metadata": {},
   "source": [
    "As you know it is quite difficult to predict the stock market value as future values are independent of past values, but what we can see is the sign of the trend, if it is positive the stock will go up and if it is negative it will go down.\n",
    "\n",
    "To do this we use the API of the yahoo finance portal and using the yfinance python library we connect and extract the data for 7 years Microsoft stock market price."
   ]
  },
  {
   "cell_type": "markdown",
   "id": "96134616",
   "metadata": {},
   "source": [
    "## 1. Import libraries"
   ]
  },
  {
   "cell_type": "code",
   "execution_count": 1,
   "id": "aa67cd46",
   "metadata": {},
   "outputs": [],
   "source": [
    "import numpy as np\n",
    "import matplotlib.pyplot as plt\n",
    "import pandas as pd\n",
    "import yfinance as yf\n",
    "\n",
    "from sklearn.preprocessing import MinMaxScaler\n",
    "from keras.models import Sequential\n",
    "from keras.layers import Dense, LSTM, Dropout"
   ]
  },
  {
   "cell_type": "markdown",
   "id": "9418031c",
   "metadata": {},
   "source": [
    "## 2. Load datasets"
   ]
  },
  {
   "cell_type": "code",
   "execution_count": 2,
   "id": "b29e9bc3",
   "metadata": {},
   "outputs": [],
   "source": [
    "msft = yf.Ticker('msft')"
   ]
  },
  {
   "cell_type": "markdown",
   "id": "13079cdc",
   "metadata": {},
   "source": [
    "Fields we have are:\n",
    "\n",
    "* Date: the indexed date.\n",
    "* Open: opening value of the day where the stock is listed.\n",
    "* High: highest daily value.\n",
    "* Low: lowest daily value.\n",
    "* Close: closing value\n",
    "* Volume: volume of shares traded on the day (both bought and sold).\n",
    "* Dividends: if dividends have been paid during the day.\n",
    "* Stock Splits: if stock splits have been made.\n",
    "\n",
    "We will work with the Open value, the value of the stock at the opening of the stock market."
   ]
  },
  {
   "cell_type": "code",
   "execution_count": 3,
   "id": "c41a47d9",
   "metadata": {},
   "outputs": [
    {
     "data": {
      "text/html": [
       "<div>\n",
       "<style scoped>\n",
       "    .dataframe tbody tr th:only-of-type {\n",
       "        vertical-align: middle;\n",
       "    }\n",
       "\n",
       "    .dataframe tbody tr th {\n",
       "        vertical-align: top;\n",
       "    }\n",
       "\n",
       "    .dataframe thead th {\n",
       "        text-align: right;\n",
       "    }\n",
       "</style>\n",
       "<table border=\"1\" class=\"dataframe\">\n",
       "  <thead>\n",
       "    <tr style=\"text-align: right;\">\n",
       "      <th></th>\n",
       "      <th>Open</th>\n",
       "      <th>High</th>\n",
       "      <th>Low</th>\n",
       "      <th>Close</th>\n",
       "      <th>Volume</th>\n",
       "      <th>Dividends</th>\n",
       "      <th>Stock Splits</th>\n",
       "    </tr>\n",
       "    <tr>\n",
       "      <th>Date</th>\n",
       "      <th></th>\n",
       "      <th></th>\n",
       "      <th></th>\n",
       "      <th></th>\n",
       "      <th></th>\n",
       "      <th></th>\n",
       "      <th></th>\n",
       "    </tr>\n",
       "  </thead>\n",
       "  <tbody>\n",
       "    <tr>\n",
       "      <th>2016-03-28 00:00:00-04:00</th>\n",
       "      <td>48.828381</td>\n",
       "      <td>48.900440</td>\n",
       "      <td>48.035744</td>\n",
       "      <td>48.224895</td>\n",
       "      <td>17025100</td>\n",
       "      <td>0.0</td>\n",
       "      <td>0</td>\n",
       "    </tr>\n",
       "    <tr>\n",
       "      <th>2016-03-29 00:00:00-04:00</th>\n",
       "      <td>48.332997</td>\n",
       "      <td>49.413869</td>\n",
       "      <td>48.143845</td>\n",
       "      <td>49.278759</td>\n",
       "      <td>23924300</td>\n",
       "      <td>0.0</td>\n",
       "      <td>0</td>\n",
       "    </tr>\n",
       "    <tr>\n",
       "      <th>2016-03-30 00:00:00-04:00</th>\n",
       "      <td>49.476917</td>\n",
       "      <td>50.116432</td>\n",
       "      <td>49.449896</td>\n",
       "      <td>49.585003</td>\n",
       "      <td>23008300</td>\n",
       "      <td>0.0</td>\n",
       "      <td>0</td>\n",
       "    </tr>\n",
       "    <tr>\n",
       "      <th>2016-03-31 00:00:00-04:00</th>\n",
       "      <td>49.494929</td>\n",
       "      <td>50.071393</td>\n",
       "      <td>49.413863</td>\n",
       "      <td>49.747131</td>\n",
       "      <td>26360500</td>\n",
       "      <td>0.0</td>\n",
       "      <td>0</td>\n",
       "    </tr>\n",
       "    <tr>\n",
       "      <th>2016-04-01 00:00:00-04:00</th>\n",
       "      <td>49.585001</td>\n",
       "      <td>50.089409</td>\n",
       "      <td>49.152652</td>\n",
       "      <td>50.053379</td>\n",
       "      <td>24399200</td>\n",
       "      <td>0.0</td>\n",
       "      <td>0</td>\n",
       "    </tr>\n",
       "  </tbody>\n",
       "</table>\n",
       "</div>"
      ],
      "text/plain": [
       "                                Open       High        Low      Close  \\\n",
       "Date                                                                    \n",
       "2016-03-28 00:00:00-04:00  48.828381  48.900440  48.035744  48.224895   \n",
       "2016-03-29 00:00:00-04:00  48.332997  49.413869  48.143845  49.278759   \n",
       "2016-03-30 00:00:00-04:00  49.476917  50.116432  49.449896  49.585003   \n",
       "2016-03-31 00:00:00-04:00  49.494929  50.071393  49.413863  49.747131   \n",
       "2016-04-01 00:00:00-04:00  49.585001  50.089409  49.152652  50.053379   \n",
       "\n",
       "                             Volume  Dividends  Stock Splits  \n",
       "Date                                                          \n",
       "2016-03-28 00:00:00-04:00  17025100        0.0             0  \n",
       "2016-03-29 00:00:00-04:00  23924300        0.0             0  \n",
       "2016-03-30 00:00:00-04:00  23008300        0.0             0  \n",
       "2016-03-31 00:00:00-04:00  26360500        0.0             0  \n",
       "2016-04-01 00:00:00-04:00  24399200        0.0             0  "
      ]
     },
     "execution_count": 3,
     "metadata": {},
     "output_type": "execute_result"
    }
   ],
   "source": [
    "df = msft.history(period='7y')\n",
    "df.head()"
   ]
  },
  {
   "cell_type": "markdown",
   "id": "81d669e8",
   "metadata": {},
   "source": [
    "Analysing the value series over the entire history, we see that it peaks at the end of the year 2021 and with the beginning of the year 2022 starts a negative trend."
   ]
  },
  {
   "cell_type": "markdown",
   "id": "0cb25411",
   "metadata": {},
   "source": [
    "## 3. Dataset analysis"
   ]
  },
  {
   "cell_type": "code",
   "execution_count": 4,
   "id": "6b7858fd",
   "metadata": {},
   "outputs": [
    {
     "data": {
      "image/png": "[encoded data removed]",
      "text/plain": [
       "<Figure size 1200x600 with 1 Axes>"
      ]
     },
     "metadata": {},
     "output_type": "display_data"
    }
   ],
   "source": [
    "df.Open.plot(figsize=(12,6));"
   ]
  },
  {
   "cell_type": "markdown",
   "id": "038a0c01",
   "metadata": {},
   "source": [
    "Select by date the training dataset."
   ]
  },
  {
   "cell_type": "code",
   "execution_count": 5,
   "id": "3dee9d6a",
   "metadata": {},
   "outputs": [
    {
     "data": {
      "text/html": [
       "<div>\n",
       "<style scoped>\n",
       "    .dataframe tbody tr th:only-of-type {\n",
       "        vertical-align: middle;\n",
       "    }\n",
       "\n",
       "    .dataframe tbody tr th {\n",
       "        vertical-align: top;\n",
       "    }\n",
       "\n",
       "    .dataframe thead th {\n",
       "        text-align: right;\n",
       "    }\n",
       "</style>\n",
       "<table border=\"1\" class=\"dataframe\">\n",
       "  <thead>\n",
       "    <tr style=\"text-align: right;\">\n",
       "      <th></th>\n",
       "      <th>Open</th>\n",
       "      <th>High</th>\n",
       "      <th>Low</th>\n",
       "      <th>Close</th>\n",
       "      <th>Volume</th>\n",
       "      <th>Dividends</th>\n",
       "      <th>Stock Splits</th>\n",
       "    </tr>\n",
       "    <tr>\n",
       "      <th>Date</th>\n",
       "      <th></th>\n",
       "      <th></th>\n",
       "      <th></th>\n",
       "      <th></th>\n",
       "      <th></th>\n",
       "      <th></th>\n",
       "      <th></th>\n",
       "    </tr>\n",
       "  </thead>\n",
       "  <tbody>\n",
       "    <tr>\n",
       "      <th>2016-02-18 00:00:00-05:00</th>\n",
       "      <td>47.135035</td>\n",
       "      <td>47.693484</td>\n",
       "      <td>46.927865</td>\n",
       "      <td>47.008930</td>\n",
       "      <td>27176000</td>\n",
       "      <td>0.0</td>\n",
       "      <td>0</td>\n",
       "    </tr>\n",
       "    <tr>\n",
       "      <th>2016-02-19 00:00:00-05:00</th>\n",
       "      <td>46.810766</td>\n",
       "      <td>47.089989</td>\n",
       "      <td>46.414444</td>\n",
       "      <td>46.675655</td>\n",
       "      <td>33559100</td>\n",
       "      <td>0.0</td>\n",
       "      <td>0</td>\n",
       "    </tr>\n",
       "    <tr>\n",
       "      <th>2016-02-22 00:00:00-05:00</th>\n",
       "      <td>47.089973</td>\n",
       "      <td>47.738497</td>\n",
       "      <td>47.089973</td>\n",
       "      <td>47.423244</td>\n",
       "      <td>25008300</td>\n",
       "      <td>0.0</td>\n",
       "      <td>0</td>\n",
       "    </tr>\n",
       "    <tr>\n",
       "      <th>2016-02-23 00:00:00-05:00</th>\n",
       "      <td>47.144029</td>\n",
       "      <td>47.171049</td>\n",
       "      <td>45.919040</td>\n",
       "      <td>46.099186</td>\n",
       "      <td>28895300</td>\n",
       "      <td>0.0</td>\n",
       "      <td>0</td>\n",
       "    </tr>\n",
       "    <tr>\n",
       "      <th>2016-02-24 00:00:00-05:00</th>\n",
       "      <td>45.657830</td>\n",
       "      <td>46.387419</td>\n",
       "      <td>45.216475</td>\n",
       "      <td>46.261318</td>\n",
       "      <td>33014500</td>\n",
       "      <td>0.0</td>\n",
       "      <td>0</td>\n",
       "    </tr>\n",
       "  </tbody>\n",
       "</table>\n",
       "</div>"
      ],
      "text/plain": [
       "                                Open       High        Low      Close  \\\n",
       "Date                                                                    \n",
       "2016-02-18 00:00:00-05:00  47.135035  47.693484  46.927865  47.008930   \n",
       "2016-02-19 00:00:00-05:00  46.810766  47.089989  46.414444  46.675655   \n",
       "2016-02-22 00:00:00-05:00  47.089973  47.738497  47.089973  47.423244   \n",
       "2016-02-23 00:00:00-05:00  47.144029  47.171049  45.919040  46.099186   \n",
       "2016-02-24 00:00:00-05:00  45.657830  46.387419  45.216475  46.261318   \n",
       "\n",
       "                             Volume  Dividends  Stock Splits  \n",
       "Date                                                          \n",
       "2016-02-18 00:00:00-05:00  27176000        0.0             0  \n",
       "2016-02-19 00:00:00-05:00  33559100        0.0             0  \n",
       "2016-02-22 00:00:00-05:00  25008300        0.0             0  \n",
       "2016-02-23 00:00:00-05:00  28895300        0.0             0  \n",
       "2016-02-24 00:00:00-05:00  33014500        0.0             0  "
      ]
     },
     "execution_count": 5,
     "metadata": {},
     "output_type": "execute_result"
    }
   ],
   "source": [
    "df_train = df.loc['2016-01-01':'2021-12-31']\n",
    "df_train.head()"
   ]
  },
  {
   "cell_type": "markdown",
   "id": "a135eca3",
   "metadata": {},
   "source": [
    "Select the Open column and convert it into a numpy array."
   ]
  },
  {
   "cell_type": "code",
   "execution_count": 6,
   "id": "d4be8e6c",
   "metadata": {},
   "outputs": [
    {
     "data": {
      "text/plain": [
       "array([[ 47.13503484],\n",
       "       [ 46.81076574],\n",
       "       [ 47.08997325],\n",
       "       ...,\n",
       "       [337.28684856],\n",
       "       [337.88968123],\n",
       "       [334.52966897]])"
      ]
     },
     "execution_count": 6,
     "metadata": {},
     "output_type": "execute_result"
    }
   ],
   "source": [
    "training_set  = df_train.iloc[:, 0:1].values\n",
    "training_set"
   ]
  },
  {
   "cell_type": "markdown",
   "id": "98b63e8b",
   "metadata": {},
   "source": [
    "Scale the training df, there are two ways to do this:\n",
    "\n",
    "* Standardize: subtract by the mean and divide by the standard deviation to have an N(0,1).\n",
    "* Normalise: subtract by the minimum and divide by the range (max - min) to get a range (0,1).\n",
    "\n",
    "We can use either of the two, but the most recommended whenever we have a sigmoid activation function in the network execution is to use the minmax normalisation since we use the same range and the LSTM uses sigmoid in the windows.\n",
    "\n",
    "We use fit_transform to apply the formula and transform the variable in the same step."
   ]
  },
  {
   "cell_type": "code",
   "execution_count": 7,
   "id": "b34f46e0",
   "metadata": {},
   "outputs": [
    {
     "data": {
      "text/plain": [
       "array([[0.00932929],\n",
       "       [0.00823451],\n",
       "       [0.00917715],\n",
       "       ...,\n",
       "       [0.98892307],\n",
       "       [0.99095832],\n",
       "       [0.97961444]])"
      ]
     },
     "execution_count": 7,
     "metadata": {},
     "output_type": "execute_result"
    }
   ],
   "source": [
    "sc = MinMaxScaler(feature_range = (0, 1)) # default is (0,1)\n",
    "training_set_scaled = sc.fit_transform(training_set)\n",
    "training_set_scaled"
   ]
  },
  {
   "cell_type": "markdown",
   "id": "170092f4",
   "metadata": {},
   "source": [
    "In the next step we generate the input to the LSTM, generating the sequence values, we are going to use 60 values that we will load in X_train and the next immediate value in y_train. What we want is that the LSTM trains with the 60 values and predicts the next value, so successively we iterate through the whole training df. Why 60? You can try with different values, one month (20 days), two months (40 days) ... I have taken a quarter because normally the companies present results every quarter and it is a sufficient number to estimate."
   ]
  },
  {
   "cell_type": "code",
   "execution_count": 8,
   "id": "bcedfd54",
   "metadata": {},
   "outputs": [],
   "source": [
    "X_train = []\n",
    "y_train = []\n",
    "for i in range(60, len(df_train)):\n",
    "    X_train.append(training_set_scaled[i-60:i, 0])\n",
    "    y_train.append(training_set_scaled[i, 0])\n",
    "X_train, y_train = np.array(X_train), np.array(y_train)"
   ]
  },
  {
   "cell_type": "markdown",
   "id": "4600c278",
   "metadata": {},
   "source": [
    "Visualise the array as a training dataframe so that we can see the sequence matrix generated as input to the LSTM. Where in each row we have 60 observations and you can see that each time we iterate the values move one position."
   ]
  },
  {
   "cell_type": "code",
   "execution_count": 9,
   "id": "c254d9c4",
   "metadata": {},
   "outputs": [
    {
     "data": {
      "text/html": [
       "<div>\n",
       "<style scoped>\n",
       "    .dataframe tbody tr th:only-of-type {\n",
       "        vertical-align: middle;\n",
       "    }\n",
       "\n",
       "    .dataframe tbody tr th {\n",
       "        vertical-align: top;\n",
       "    }\n",
       "\n",
       "    .dataframe thead th {\n",
       "        text-align: right;\n",
       "    }\n",
       "</style>\n",
       "<table border=\"1\" class=\"dataframe\">\n",
       "  <thead>\n",
       "    <tr style=\"text-align: right;\">\n",
       "      <th></th>\n",
       "      <th>0</th>\n",
       "      <th>1</th>\n",
       "      <th>2</th>\n",
       "      <th>3</th>\n",
       "      <th>4</th>\n",
       "      <th>5</th>\n",
       "      <th>6</th>\n",
       "      <th>7</th>\n",
       "      <th>8</th>\n",
       "      <th>9</th>\n",
       "      <th>...</th>\n",
       "      <th>50</th>\n",
       "      <th>51</th>\n",
       "      <th>52</th>\n",
       "      <th>53</th>\n",
       "      <th>54</th>\n",
       "      <th>55</th>\n",
       "      <th>56</th>\n",
       "      <th>57</th>\n",
       "      <th>58</th>\n",
       "      <th>59</th>\n",
       "    </tr>\n",
       "  </thead>\n",
       "  <tbody>\n",
       "    <tr>\n",
       "      <th>0</th>\n",
       "      <td>0.009329</td>\n",
       "      <td>0.008235</td>\n",
       "      <td>0.009177</td>\n",
       "      <td>0.009360</td>\n",
       "      <td>0.004342</td>\n",
       "      <td>0.007505</td>\n",
       "      <td>0.010150</td>\n",
       "      <td>0.006349</td>\n",
       "      <td>0.005193</td>\n",
       "      <td>0.009573</td>\n",
       "      <td>...</td>\n",
       "      <td>0.000267</td>\n",
       "      <td>0.002244</td>\n",
       "      <td>0.003278</td>\n",
       "      <td>0.001757</td>\n",
       "      <td>0.001848</td>\n",
       "      <td>0.002000</td>\n",
       "      <td>0.003734</td>\n",
       "      <td>0.003247</td>\n",
       "      <td>0.005680</td>\n",
       "      <td>0.005893</td>\n",
       "    </tr>\n",
       "    <tr>\n",
       "      <th>1</th>\n",
       "      <td>0.008235</td>\n",
       "      <td>0.009177</td>\n",
       "      <td>0.009360</td>\n",
       "      <td>0.004342</td>\n",
       "      <td>0.007505</td>\n",
       "      <td>0.010150</td>\n",
       "      <td>0.006349</td>\n",
       "      <td>0.005193</td>\n",
       "      <td>0.009573</td>\n",
       "      <td>0.011275</td>\n",
       "      <td>...</td>\n",
       "      <td>0.002244</td>\n",
       "      <td>0.003278</td>\n",
       "      <td>0.001757</td>\n",
       "      <td>0.001848</td>\n",
       "      <td>0.002000</td>\n",
       "      <td>0.003734</td>\n",
       "      <td>0.003247</td>\n",
       "      <td>0.005680</td>\n",
       "      <td>0.005893</td>\n",
       "      <td>0.006623</td>\n",
       "    </tr>\n",
       "    <tr>\n",
       "      <th>2</th>\n",
       "      <td>0.009177</td>\n",
       "      <td>0.009360</td>\n",
       "      <td>0.004342</td>\n",
       "      <td>0.007505</td>\n",
       "      <td>0.010150</td>\n",
       "      <td>0.006349</td>\n",
       "      <td>0.005193</td>\n",
       "      <td>0.009573</td>\n",
       "      <td>0.011275</td>\n",
       "      <td>0.009542</td>\n",
       "      <td>...</td>\n",
       "      <td>0.003278</td>\n",
       "      <td>0.001757</td>\n",
       "      <td>0.001848</td>\n",
       "      <td>0.002000</td>\n",
       "      <td>0.003734</td>\n",
       "      <td>0.003247</td>\n",
       "      <td>0.005680</td>\n",
       "      <td>0.005893</td>\n",
       "      <td>0.006623</td>\n",
       "      <td>0.004677</td>\n",
       "    </tr>\n",
       "    <tr>\n",
       "      <th>3</th>\n",
       "      <td>0.009360</td>\n",
       "      <td>0.004342</td>\n",
       "      <td>0.007505</td>\n",
       "      <td>0.010150</td>\n",
       "      <td>0.006349</td>\n",
       "      <td>0.005193</td>\n",
       "      <td>0.009573</td>\n",
       "      <td>0.011275</td>\n",
       "      <td>0.009542</td>\n",
       "      <td>0.006988</td>\n",
       "      <td>...</td>\n",
       "      <td>0.001757</td>\n",
       "      <td>0.001848</td>\n",
       "      <td>0.002000</td>\n",
       "      <td>0.003734</td>\n",
       "      <td>0.003247</td>\n",
       "      <td>0.005680</td>\n",
       "      <td>0.005893</td>\n",
       "      <td>0.006623</td>\n",
       "      <td>0.004677</td>\n",
       "      <td>0.008574</td>\n",
       "    </tr>\n",
       "    <tr>\n",
       "      <th>4</th>\n",
       "      <td>0.004342</td>\n",
       "      <td>0.007505</td>\n",
       "      <td>0.010150</td>\n",
       "      <td>0.006349</td>\n",
       "      <td>0.005193</td>\n",
       "      <td>0.009573</td>\n",
       "      <td>0.011275</td>\n",
       "      <td>0.009542</td>\n",
       "      <td>0.006988</td>\n",
       "      <td>0.004677</td>\n",
       "      <td>...</td>\n",
       "      <td>0.001848</td>\n",
       "      <td>0.002000</td>\n",
       "      <td>0.003734</td>\n",
       "      <td>0.003247</td>\n",
       "      <td>0.005680</td>\n",
       "      <td>0.005893</td>\n",
       "      <td>0.006623</td>\n",
       "      <td>0.004677</td>\n",
       "      <td>0.008574</td>\n",
       "      <td>0.004777</td>\n",
       "    </tr>\n",
       "    <tr>\n",
       "      <th>...</th>\n",
       "      <td>...</td>\n",
       "      <td>...</td>\n",
       "      <td>...</td>\n",
       "      <td>...</td>\n",
       "      <td>...</td>\n",
       "      <td>...</td>\n",
       "      <td>...</td>\n",
       "      <td>...</td>\n",
       "      <td>...</td>\n",
       "      <td>...</td>\n",
       "      <td>...</td>\n",
       "      <td>...</td>\n",
       "      <td>...</td>\n",
       "      <td>...</td>\n",
       "      <td>...</td>\n",
       "      <td>...</td>\n",
       "      <td>...</td>\n",
       "      <td>...</td>\n",
       "      <td>...</td>\n",
       "      <td>...</td>\n",
       "      <td>...</td>\n",
       "    </tr>\n",
       "    <tr>\n",
       "      <th>1415</th>\n",
       "      <td>0.801709</td>\n",
       "      <td>0.789753</td>\n",
       "      <td>0.807338</td>\n",
       "      <td>0.796181</td>\n",
       "      <td>0.801942</td>\n",
       "      <td>0.833248</td>\n",
       "      <td>0.836711</td>\n",
       "      <td>0.825721</td>\n",
       "      <td>0.833781</td>\n",
       "      <td>0.832349</td>\n",
       "      <td>...</td>\n",
       "      <td>0.967837</td>\n",
       "      <td>0.986854</td>\n",
       "      <td>0.961965</td>\n",
       "      <td>0.946584</td>\n",
       "      <td>0.970272</td>\n",
       "      <td>0.920793</td>\n",
       "      <td>0.918024</td>\n",
       "      <td>0.928834</td>\n",
       "      <td>0.945549</td>\n",
       "      <td>0.960396</td>\n",
       "    </tr>\n",
       "    <tr>\n",
       "      <th>1416</th>\n",
       "      <td>0.789753</td>\n",
       "      <td>0.807338</td>\n",
       "      <td>0.796181</td>\n",
       "      <td>0.801942</td>\n",
       "      <td>0.833248</td>\n",
       "      <td>0.836711</td>\n",
       "      <td>0.825721</td>\n",
       "      <td>0.833781</td>\n",
       "      <td>0.832349</td>\n",
       "      <td>0.846669</td>\n",
       "      <td>...</td>\n",
       "      <td>0.986854</td>\n",
       "      <td>0.961965</td>\n",
       "      <td>0.946584</td>\n",
       "      <td>0.970272</td>\n",
       "      <td>0.920793</td>\n",
       "      <td>0.918024</td>\n",
       "      <td>0.928834</td>\n",
       "      <td>0.945549</td>\n",
       "      <td>0.960396</td>\n",
       "      <td>0.969438</td>\n",
       "    </tr>\n",
       "    <tr>\n",
       "      <th>1417</th>\n",
       "      <td>0.807338</td>\n",
       "      <td>0.796181</td>\n",
       "      <td>0.801942</td>\n",
       "      <td>0.833248</td>\n",
       "      <td>0.836711</td>\n",
       "      <td>0.825721</td>\n",
       "      <td>0.833781</td>\n",
       "      <td>0.832349</td>\n",
       "      <td>0.846669</td>\n",
       "      <td>0.857093</td>\n",
       "      <td>...</td>\n",
       "      <td>0.961965</td>\n",
       "      <td>0.946584</td>\n",
       "      <td>0.970272</td>\n",
       "      <td>0.920793</td>\n",
       "      <td>0.918024</td>\n",
       "      <td>0.928834</td>\n",
       "      <td>0.945549</td>\n",
       "      <td>0.960396</td>\n",
       "      <td>0.969438</td>\n",
       "      <td>0.995095</td>\n",
       "    </tr>\n",
       "    <tr>\n",
       "      <th>1418</th>\n",
       "      <td>0.796181</td>\n",
       "      <td>0.801942</td>\n",
       "      <td>0.833248</td>\n",
       "      <td>0.836711</td>\n",
       "      <td>0.825721</td>\n",
       "      <td>0.833781</td>\n",
       "      <td>0.832349</td>\n",
       "      <td>0.846669</td>\n",
       "      <td>0.857093</td>\n",
       "      <td>0.861190</td>\n",
       "      <td>...</td>\n",
       "      <td>0.946584</td>\n",
       "      <td>0.970272</td>\n",
       "      <td>0.920793</td>\n",
       "      <td>0.918024</td>\n",
       "      <td>0.928834</td>\n",
       "      <td>0.945549</td>\n",
       "      <td>0.960396</td>\n",
       "      <td>0.969438</td>\n",
       "      <td>0.995095</td>\n",
       "      <td>0.988923</td>\n",
       "    </tr>\n",
       "    <tr>\n",
       "      <th>1419</th>\n",
       "      <td>0.801942</td>\n",
       "      <td>0.833248</td>\n",
       "      <td>0.836711</td>\n",
       "      <td>0.825721</td>\n",
       "      <td>0.833781</td>\n",
       "      <td>0.832349</td>\n",
       "      <td>0.846669</td>\n",
       "      <td>0.857093</td>\n",
       "      <td>0.861190</td>\n",
       "      <td>0.877108</td>\n",
       "      <td>...</td>\n",
       "      <td>0.970272</td>\n",
       "      <td>0.920793</td>\n",
       "      <td>0.918024</td>\n",
       "      <td>0.928834</td>\n",
       "      <td>0.945549</td>\n",
       "      <td>0.960396</td>\n",
       "      <td>0.969438</td>\n",
       "      <td>0.995095</td>\n",
       "      <td>0.988923</td>\n",
       "      <td>0.990958</td>\n",
       "    </tr>\n",
       "  </tbody>\n",
       "</table>\n",
       "<p>1420 rows × 60 columns</p>\n",
       "</div>"
      ],
      "text/plain": [
       "            0         1         2         3         4         5         6   \\\n",
       "0     0.009329  0.008235  0.009177  0.009360  0.004342  0.007505  0.010150   \n",
       "1     0.008235  0.009177  0.009360  0.004342  0.007505  0.010150  0.006349   \n",
       "2     0.009177  0.009360  0.004342  0.007505  0.010150  0.006349  0.005193   \n",
       "3     0.009360  0.004342  0.007505  0.010150  0.006349  0.005193  0.009573   \n",
       "4     0.004342  0.007505  0.010150  0.006349  0.005193  0.009573  0.011275   \n",
       "...        ...       ...       ...       ...       ...       ...       ...   \n",
       "1415  0.801709  0.789753  0.807338  0.796181  0.801942  0.833248  0.836711   \n",
       "1416  0.789753  0.807338  0.796181  0.801942  0.833248  0.836711  0.825721   \n",
       "1417  0.807338  0.796181  0.801942  0.833248  0.836711  0.825721  0.833781   \n",
       "1418  0.796181  0.801942  0.833248  0.836711  0.825721  0.833781  0.832349   \n",
       "1419  0.801942  0.833248  0.836711  0.825721  0.833781  0.832349  0.846669   \n",
       "\n",
       "            7         8         9   ...        50        51        52  \\\n",
       "0     0.006349  0.005193  0.009573  ...  0.000267  0.002244  0.003278   \n",
       "1     0.005193  0.009573  0.011275  ...  0.002244  0.003278  0.001757   \n",
       "2     0.009573  0.011275  0.009542  ...  0.003278  0.001757  0.001848   \n",
       "3     0.011275  0.009542  0.006988  ...  0.001757  0.001848  0.002000   \n",
       "4     0.009542  0.006988  0.004677  ...  0.001848  0.002000  0.003734   \n",
       "...        ...       ...       ...  ...       ...       ...       ...   \n",
       "1415  0.825721  0.833781  0.832349  ...  0.967837  0.986854  0.961965   \n",
       "1416  0.833781  0.832349  0.846669  ...  0.986854  0.961965  0.946584   \n",
       "1417  0.832349  0.846669  0.857093  ...  0.961965  0.946584  0.970272   \n",
       "1418  0.846669  0.857093  0.861190  ...  0.946584  0.970272  0.920793   \n",
       "1419  0.857093  0.861190  0.877108  ...  0.970272  0.920793  0.918024   \n",
       "\n",
       "            53        54        55        56        57        58        59  \n",
       "0     0.001757  0.001848  0.002000  0.003734  0.003247  0.005680  0.005893  \n",
       "1     0.001848  0.002000  0.003734  0.003247  0.005680  0.005893  0.006623  \n",
       "2     0.002000  0.003734  0.003247  0.005680  0.005893  0.006623  0.004677  \n",
       "3     0.003734  0.003247  0.005680  0.005893  0.006623  0.004677  0.008574  \n",
       "4     0.003247  0.005680  0.005893  0.006623  0.004677  0.008574  0.004777  \n",
       "...        ...       ...       ...       ...       ...       ...       ...  \n",
       "1415  0.946584  0.970272  0.920793  0.918024  0.928834  0.945549  0.960396  \n",
       "1416  0.970272  0.920793  0.918024  0.928834  0.945549  0.960396  0.969438  \n",
       "1417  0.920793  0.918024  0.928834  0.945549  0.960396  0.969438  0.995095  \n",
       "1418  0.918024  0.928834  0.945549  0.960396  0.969438  0.995095  0.988923  \n",
       "1419  0.928834  0.945549  0.960396  0.969438  0.995095  0.988923  0.990958  \n",
       "\n",
       "[1420 rows x 60 columns]"
      ]
     },
     "execution_count": 9,
     "metadata": {},
     "output_type": "execute_result"
    }
   ],
   "source": [
    "# Visualise the array as a dataframe\n",
    "\n",
    "pd.DataFrame(X_train)"
   ]
  },
  {
   "cell_type": "code",
   "execution_count": 10,
   "id": "428486e6",
   "metadata": {},
   "outputs": [
    {
     "data": {
      "text/html": [
       "<div>\n",
       "<style scoped>\n",
       "    .dataframe tbody tr th:only-of-type {\n",
       "        vertical-align: middle;\n",
       "    }\n",
       "\n",
       "    .dataframe tbody tr th {\n",
       "        vertical-align: top;\n",
       "    }\n",
       "\n",
       "    .dataframe thead th {\n",
       "        text-align: right;\n",
       "    }\n",
       "</style>\n",
       "<table border=\"1\" class=\"dataframe\">\n",
       "  <thead>\n",
       "    <tr style=\"text-align: right;\">\n",
       "      <th></th>\n",
       "      <th>0</th>\n",
       "    </tr>\n",
       "  </thead>\n",
       "  <tbody>\n",
       "    <tr>\n",
       "      <th>0</th>\n",
       "      <td>0.006623</td>\n",
       "    </tr>\n",
       "    <tr>\n",
       "      <th>1</th>\n",
       "      <td>0.004677</td>\n",
       "    </tr>\n",
       "    <tr>\n",
       "      <th>2</th>\n",
       "      <td>0.008574</td>\n",
       "    </tr>\n",
       "    <tr>\n",
       "      <th>3</th>\n",
       "      <td>0.004777</td>\n",
       "    </tr>\n",
       "    <tr>\n",
       "      <th>4</th>\n",
       "      <td>0.004746</td>\n",
       "    </tr>\n",
       "    <tr>\n",
       "      <th>...</th>\n",
       "      <td>...</td>\n",
       "    </tr>\n",
       "    <tr>\n",
       "      <th>1415</th>\n",
       "      <td>0.969438</td>\n",
       "    </tr>\n",
       "    <tr>\n",
       "      <th>1416</th>\n",
       "      <td>0.995095</td>\n",
       "    </tr>\n",
       "    <tr>\n",
       "      <th>1417</th>\n",
       "      <td>0.988923</td>\n",
       "    </tr>\n",
       "    <tr>\n",
       "      <th>1418</th>\n",
       "      <td>0.990958</td>\n",
       "    </tr>\n",
       "    <tr>\n",
       "      <th>1419</th>\n",
       "      <td>0.979614</td>\n",
       "    </tr>\n",
       "  </tbody>\n",
       "</table>\n",
       "<p>1420 rows × 1 columns</p>\n",
       "</div>"
      ],
      "text/plain": [
       "             0\n",
       "0     0.006623\n",
       "1     0.004677\n",
       "2     0.008574\n",
       "3     0.004777\n",
       "4     0.004746\n",
       "...        ...\n",
       "1415  0.969438\n",
       "1416  0.995095\n",
       "1417  0.988923\n",
       "1418  0.990958\n",
       "1419  0.979614\n",
       "\n",
       "[1420 rows x 1 columns]"
      ]
     },
     "execution_count": 10,
     "metadata": {},
     "output_type": "execute_result"
    }
   ],
   "source": [
    "pd.DataFrame(y_train)"
   ]
  },
  {
   "cell_type": "markdown",
   "id": "9c8aab55",
   "metadata": {},
   "source": [
    "Add a new dimension to the training df (X_train):\n",
    "\n",
    "* Number of observations of X_train.\n",
    "* Number of sequences of X_train, it is the number of columns that we have created when sequencing.\n",
    "* Depth of the dataframe, this refers to the number of variables, in our case 1, the value of the Microsoft action, if we use other variables (exogenous) we will extend the dimensionality and we must include it in X_train."
   ]
  },
  {
   "cell_type": "code",
   "execution_count": 11,
   "id": "33b92320",
   "metadata": {},
   "outputs": [
    {
     "data": {
      "text/plain": [
       "(1420, 60)"
      ]
     },
     "execution_count": 11,
     "metadata": {},
     "output_type": "execute_result"
    }
   ],
   "source": [
    "X_train.shape"
   ]
  },
  {
   "cell_type": "markdown",
   "id": "8f0cac35",
   "metadata": {},
   "source": [
    "## 4. Train model"
   ]
  },
  {
   "cell_type": "code",
   "execution_count": 5,
   "id": "d8336c10",
   "metadata": {},
   "outputs": [
    {
     "ename": "NameError",
     "evalue": "name 'X_train' is not defined",
     "output_type": "error",
     "traceback": [
      "\u001b[1;31m---------------------------------------------------------------------------\u001b[0m",
      "\u001b[1;31mNameError\u001b[0m                                 Traceback (most recent call last)",
      "\u001b[1;32m~\\AppData\\Local\\Temp\\ipykernel_11644\\223394585.py\u001b[0m in \u001b[0;36m<module>\u001b[1;34m\u001b[0m\n\u001b[1;32m----> 1\u001b[1;33m X_train = np.reshape(X_train, # Dataframe to resize\n\u001b[0m\u001b[0;32m      2\u001b[0m                      (X_train.shape[0], # Number of observations\n\u001b[0;32m      3\u001b[0m                       \u001b[0mX_train\u001b[0m\u001b[1;33m.\u001b[0m\u001b[0mshape\u001b[0m\u001b[1;33m[\u001b[0m\u001b[1;36m1\u001b[0m\u001b[1;33m]\u001b[0m\u001b[1;33m,\u001b[0m \u001b[1;31m# Number of sequences (number of columns)\u001b[0m\u001b[1;33m\u001b[0m\u001b[1;33m\u001b[0m\u001b[0m\n\u001b[0;32m      4\u001b[0m                       1) # Depth\n\u001b[0;32m      5\u001b[0m                     )\n",
      "\u001b[1;31mNameError\u001b[0m: name 'X_train' is not defined"
     ]
    }
   ],
   "source": [
    "X_train = np.reshape(X_train, # Dataframe to resize\n",
    "                     (X_train.shape[0], # Number of observations\n",
    "                      X_train.shape[1], # Number of sequences (number of columns)\n",
    "                      1) # Depth\n",
    "                    )\n",
    "X_train.shape"
   ]
  },
  {
   "cell_type": "code",
   "execution_count": 13,
   "id": "0acdccb2",
   "metadata": {},
   "outputs": [
    {
     "data": {
      "text/plain": [
       "array([[[0.00932929],\n",
       "        [0.00823451],\n",
       "        [0.00917715],\n",
       "        ...,\n",
       "        [0.00324727],\n",
       "        [0.00568004],\n",
       "        [0.00589292]],\n",
       "\n",
       "       [[0.00823451],\n",
       "        [0.00917715],\n",
       "        [0.00935965],\n",
       "        ...,\n",
       "        [0.00568004],\n",
       "        [0.00589292],\n",
       "        [0.00662276]],\n",
       "\n",
       "       [[0.00917715],\n",
       "        [0.00935965],\n",
       "        [0.00434203],\n",
       "        ...,\n",
       "        [0.00589292],\n",
       "        [0.00662276],\n",
       "        [0.00467654]],\n",
       "\n",
       "       ...,\n",
       "\n",
       "       [[0.80733765],\n",
       "        [0.79618086],\n",
       "        [0.80194233],\n",
       "        ...,\n",
       "        [0.96039638],\n",
       "        [0.96943811],\n",
       "        [0.99509544]],\n",
       "\n",
       "       [[0.79618086],\n",
       "        [0.80194233],\n",
       "        [0.83324785],\n",
       "        ...,\n",
       "        [0.96943811],\n",
       "        [0.99509544],\n",
       "        [0.98892307]],\n",
       "\n",
       "       [[0.80194233],\n",
       "        [0.83324785],\n",
       "        [0.83671144],\n",
       "        ...,\n",
       "        [0.99509544],\n",
       "        [0.98892307],\n",
       "        [0.99095832]]])"
      ]
     },
     "execution_count": 13,
     "metadata": {},
     "output_type": "execute_result"
    }
   ],
   "source": [
    "X_train"
   ]
  },
  {
   "cell_type": "markdown",
   "id": "f133091d",
   "metadata": {},
   "source": [
    "Now we are ready to create the LSTM structure. We will create a structure with an input layer, 3 LSTM layers with Dropout overfitting prevention and an output layer with prediction value. Initialise it as a sequential set of layers and call it a regressor because we are in a regression problem to predict a numerical value."
   ]
  },
  {
   "cell_type": "code",
   "execution_count": 14,
   "id": "e1a15c43",
   "metadata": {},
   "outputs": [],
   "source": [
    "regressor = Sequential()"
   ]
  },
  {
   "cell_type": "code",
   "execution_count": 15,
   "id": "592010eb",
   "metadata": {},
   "outputs": [],
   "source": [
    "regressor.add(LSTM(units = 50, # num. od neurons\n",
    "                   return_sequences = True, # return all neurons\n",
    "                   input_shape = (X_train.shape[1], X_train.shape[2]) )) # size input form, must match X_train"
   ]
  },
  {
   "cell_type": "markdown",
   "id": "c6f7a35c",
   "metadata": {},
   "source": [
    "We add several layers in a row with a Dropout of 0.5 to prevent overfitting (remember to randomly disable neurons at the given %, in our example 50% of them)."
   ]
  },
  {
   "cell_type": "code",
   "execution_count": 16,
   "id": "de03d011",
   "metadata": {},
   "outputs": [],
   "source": [
    "regressor.add(LSTM(units = 50, return_sequences = True ))\n",
    "regressor.add(Dropout(0.5))"
   ]
  },
  {
   "cell_type": "code",
   "execution_count": 17,
   "id": "c17d202c",
   "metadata": {},
   "outputs": [],
   "source": [
    "regressor.add(LSTM(units = 50, return_sequences = True ))\n",
    "regressor.add(Dropout(0.5))"
   ]
  },
  {
   "cell_type": "code",
   "execution_count": 18,
   "id": "4d457cb3",
   "metadata": {},
   "outputs": [],
   "source": [
    "regressor.add(LSTM(units = 50))\n",
    "regressor.add(Dropout(0.5))"
   ]
  },
  {
   "cell_type": "markdown",
   "id": "206ebe30",
   "metadata": {},
   "source": [
    "Add the output layer, as we want to predict the value of a value for each sequence, the value of units must be 1."
   ]
  },
  {
   "cell_type": "code",
   "execution_count": 19,
   "id": "b3f3bfe3",
   "metadata": {},
   "outputs": [],
   "source": [
    "regressor.add(Dense(units = 1))"
   ]
  },
  {
   "cell_type": "markdown",
   "id": "a5f5b8ed",
   "metadata": {},
   "source": [
    "Compile with optimiser adam (for recurrence adam or RMSprop is recommended, although adam usually gives better results) and cost function MSE because it is a regression model."
   ]
  },
  {
   "cell_type": "code",
   "execution_count": 20,
   "id": "88a3d9fb",
   "metadata": {},
   "outputs": [],
   "source": [
    "regressor.compile(optimizer = 'adam', loss = 'mean_squared_error')"
   ]
  },
  {
   "cell_type": "markdown",
   "id": "3ebf8ddf",
   "metadata": {},
   "source": [
    "Train 100 epochs (enough for the network to converge, you can try more and less to compare the output) with batch_size of 32 (remember that they work best with powers of 2). We see that there are 46 (n.obs / batch_size) backpropagation processes."
   ]
  },
  {
   "cell_type": "code",
   "execution_count": 21,
   "id": "1b3ccbc2",
   "metadata": {},
   "outputs": [
    {
     "name": "stdout",
     "output_type": "stream",
     "text": [
      "Epoch 1/100\n",
      "45/45 [==============================] - 92s 261ms/step - loss: 0.0249\n",
      "Epoch 2/100\n",
      "45/45 [==============================] - 12s 257ms/step - loss: 0.0074\n",
      "Epoch 3/100\n",
      "45/45 [==============================] - 12s 256ms/step - loss: 0.0059\n",
      "Epoch 4/100\n",
      "45/45 [==============================] - 12s 262ms/step - loss: 0.0063\n",
      "Epoch 5/100\n",
      "45/45 [==============================] - 12s 264ms/step - loss: 0.0053\n",
      "Epoch 6/100\n",
      "45/45 [==============================] - 10s 216ms/step - loss: 0.0051\n",
      "Epoch 7/100\n",
      "45/45 [==============================] - 6s 133ms/step - loss: 0.0057\n",
      "Epoch 8/100\n",
      "45/45 [==============================] - 4s 96ms/step - loss: 0.0042\n",
      "Epoch 9/100\n",
      "45/45 [==============================] - 4s 92ms/step - loss: 0.0056\n",
      "Epoch 10/100\n",
      "45/45 [==============================] - 5s 106ms/step - loss: 0.0047\n",
      "Epoch 11/100\n",
      "45/45 [==============================] - 4s 93ms/step - loss: 0.0041\n",
      "Epoch 12/100\n",
      "45/45 [==============================] - 4s 90ms/step - loss: 0.0035\n",
      "Epoch 13/100\n",
      "45/45 [==============================] - 4s 88ms/step - loss: 0.0040\n",
      "Epoch 14/100\n",
      "45/45 [==============================] - 4s 91ms/step - loss: 0.0037\n",
      "Epoch 15/100\n",
      "45/45 [==============================] - 4s 90ms/step - loss: 0.0031\n",
      "Epoch 16/100\n",
      "45/45 [==============================] - 4s 94ms/step - loss: 0.0035\n",
      "Epoch 17/100\n",
      "45/45 [==============================] - 4s 89ms/step - loss: 0.0034\n",
      "Epoch 18/100\n",
      "45/45 [==============================] - 4s 95ms/step - loss: 0.0034\n",
      "Epoch 19/100\n",
      "45/45 [==============================] - 4s 96ms/step - loss: 0.0032\n",
      "Epoch 20/100\n",
      "45/45 [==============================] - 4s 88ms/step - loss: 0.0033\n",
      "Epoch 21/100\n",
      "45/45 [==============================] - 4s 85ms/step - loss: 0.0037\n",
      "Epoch 22/100\n",
      "45/45 [==============================] - 4s 96ms/step - loss: 0.0036\n",
      "Epoch 23/100\n",
      "45/45 [==============================] - 4s 87ms/step - loss: 0.0034\n",
      "Epoch 24/100\n",
      "45/45 [==============================] - 4s 89ms/step - loss: 0.0028\n",
      "Epoch 25/100\n",
      "45/45 [==============================] - 4s 87ms/step - loss: 0.0032\n",
      "Epoch 26/100\n",
      "45/45 [==============================] - 4s 92ms/step - loss: 0.0028\n",
      "Epoch 27/100\n",
      "45/45 [==============================] - 4s 89ms/step - loss: 0.0033\n",
      "Epoch 28/100\n",
      "45/45 [==============================] - 4s 86ms/step - loss: 0.0030\n",
      "Epoch 29/100\n",
      "45/45 [==============================] - 4s 84ms/step - loss: 0.0028\n",
      "Epoch 30/100\n",
      "45/45 [==============================] - 4s 92ms/step - loss: 0.0027\n",
      "Epoch 31/100\n",
      "45/45 [==============================] - 5s 115ms/step - loss: 0.0025\n",
      "Epoch 32/100\n",
      "45/45 [==============================] - 7s 157ms/step - loss: 0.0034\n",
      "Epoch 33/100\n",
      "45/45 [==============================] - 6s 123ms/step - loss: 0.0027\n",
      "Epoch 34/100\n",
      "45/45 [==============================] - 4s 99ms/step - loss: 0.0024\n",
      "Epoch 35/100\n",
      "45/45 [==============================] - 4s 98ms/step - loss: 0.0025\n",
      "Epoch 36/100\n",
      "45/45 [==============================] - 4s 90ms/step - loss: 0.0027\n",
      "Epoch 37/100\n",
      "45/45 [==============================] - 4s 96ms/step - loss: 0.0028\n",
      "Epoch 38/100\n",
      "45/45 [==============================] - 6s 123ms/step - loss: 0.0025\n",
      "Epoch 39/100\n",
      "45/45 [==============================] - 6s 130ms/step - loss: 0.0024\n",
      "Epoch 40/100\n",
      "45/45 [==============================] - 6s 127ms/step - loss: 0.0024\n",
      "Epoch 41/100\n",
      "45/45 [==============================] - 5s 119ms/step - loss: 0.0022\n",
      "Epoch 42/100\n",
      "45/45 [==============================] - 5s 121ms/step - loss: 0.0029\n",
      "Epoch 43/100\n",
      "45/45 [==============================] - 6s 122ms/step - loss: 0.0029\n",
      "Epoch 44/100\n",
      "45/45 [==============================] - 5s 113ms/step - loss: 0.0023\n",
      "Epoch 45/100\n",
      "45/45 [==============================] - 5s 120ms/step - loss: 0.0023\n",
      "Epoch 46/100\n",
      "45/45 [==============================] - 5s 119ms/step - loss: 0.0022\n",
      "Epoch 47/100\n",
      "45/45 [==============================] - 5s 122ms/step - loss: 0.0031\n",
      "Epoch 48/100\n",
      "45/45 [==============================] - 5s 118ms/step - loss: 0.0023\n",
      "Epoch 49/100\n",
      "45/45 [==============================] - 5s 115ms/step - loss: 0.0022\n",
      "Epoch 50/100\n",
      "45/45 [==============================] - 5s 105ms/step - loss: 0.0023\n",
      "Epoch 51/100\n",
      "45/45 [==============================] - 5s 114ms/step - loss: 0.0022\n",
      "Epoch 52/100\n",
      "45/45 [==============================] - 6s 140ms/step - loss: 0.0025\n",
      "Epoch 53/100\n",
      "45/45 [==============================] - 5s 117ms/step - loss: 0.0021\n",
      "Epoch 54/100\n",
      "45/45 [==============================] - 5s 108ms/step - loss: 0.0021\n",
      "Epoch 55/100\n",
      "45/45 [==============================] - 6s 134ms/step - loss: 0.0021\n",
      "Epoch 56/100\n",
      "45/45 [==============================] - 7s 159ms/step - loss: 0.0021\n",
      "Epoch 57/100\n",
      "45/45 [==============================] - 6s 138ms/step - loss: 0.0022\n",
      "Epoch 58/100\n",
      "45/45 [==============================] - 4s 97ms/step - loss: 0.0023\n",
      "Epoch 59/100\n",
      "45/45 [==============================] - 4s 87ms/step - loss: 0.0024\n",
      "Epoch 60/100\n",
      "45/45 [==============================] - 4s 98ms/step - loss: 0.0019\n",
      "Epoch 61/100\n",
      "45/45 [==============================] - 5s 100ms/step - loss: 0.0022\n",
      "Epoch 62/100\n",
      "45/45 [==============================] - 5s 106ms/step - loss: 0.0024\n",
      "Epoch 63/100\n",
      "45/45 [==============================] - 4s 87ms/step - loss: 0.0022\n",
      "Epoch 64/100\n",
      "45/45 [==============================] - 5s 104ms/step - loss: 0.0023\n",
      "Epoch 65/100\n",
      "45/45 [==============================] - 4s 96ms/step - loss: 0.0024\n",
      "Epoch 66/100\n",
      "45/45 [==============================] - 4s 84ms/step - loss: 0.0024\n",
      "Epoch 67/100\n",
      "45/45 [==============================] - 4s 85ms/step - loss: 0.0019\n",
      "Epoch 68/100\n",
      "45/45 [==============================] - 4s 97ms/step - loss: 0.0024\n",
      "Epoch 69/100\n",
      "45/45 [==============================] - 5s 101ms/step - loss: 0.0024\n",
      "Epoch 70/100\n",
      "45/45 [==============================] - 4s 97ms/step - loss: 0.0027\n",
      "Epoch 71/100\n",
      "45/45 [==============================] - 4s 88ms/step - loss: 0.0021\n",
      "Epoch 72/100\n",
      "45/45 [==============================] - 4s 94ms/step - loss: 0.0023\n",
      "Epoch 73/100\n",
      "45/45 [==============================] - 4s 86ms/step - loss: 0.0020\n",
      "Epoch 74/100\n",
      "45/45 [==============================] - 4s 84ms/step - loss: 0.0025\n",
      "Epoch 75/100\n",
      "45/45 [==============================] - 4s 87ms/step - loss: 0.0022\n",
      "Epoch 76/100\n",
      "45/45 [==============================] - 4s 92ms/step - loss: 0.0022\n",
      "Epoch 77/100\n",
      "45/45 [==============================] - 4s 99ms/step - loss: 0.0026\n",
      "Epoch 78/100\n",
      "45/45 [==============================] - 4s 87ms/step - loss: 0.0020\n",
      "Epoch 79/100\n",
      "45/45 [==============================] - 4s 91ms/step - loss: 0.0023\n",
      "Epoch 80/100\n",
      "45/45 [==============================] - 4s 93ms/step - loss: 0.0020\n",
      "Epoch 81/100\n",
      "45/45 [==============================] - 4s 85ms/step - loss: 0.0024\n",
      "Epoch 82/100\n",
      "45/45 [==============================] - 4s 84ms/step - loss: 0.0025\n",
      "Epoch 83/100\n",
      "45/45 [==============================] - 4s 85ms/step - loss: 0.0023\n",
      "Epoch 84/100\n",
      "45/45 [==============================] - 5s 105ms/step - loss: 0.0020\n",
      "Epoch 85/100\n",
      "45/45 [==============================] - 4s 97ms/step - loss: 0.0021\n",
      "Epoch 86/100\n",
      "45/45 [==============================] - 4s 86ms/step - loss: 0.0022\n",
      "Epoch 87/100\n",
      "45/45 [==============================] - 4s 87ms/step - loss: 0.0021\n",
      "Epoch 88/100\n",
      "45/45 [==============================] - 4s 91ms/step - loss: 0.0021\n",
      "Epoch 89/100\n",
      "45/45 [==============================] - 4s 86ms/step - loss: 0.0021\n",
      "Epoch 90/100\n",
      "45/45 [==============================] - 4s 88ms/step - loss: 0.0024\n",
      "Epoch 91/100\n",
      "45/45 [==============================] - 4s 90ms/step - loss: 0.0023\n",
      "Epoch 92/100\n",
      "45/45 [==============================] - 5s 109ms/step - loss: 0.0021\n",
      "Epoch 93/100\n",
      "45/45 [==============================] - 4s 96ms/step - loss: 0.0023\n",
      "Epoch 94/100\n",
      "45/45 [==============================] - 4s 95ms/step - loss: 0.0021\n",
      "Epoch 95/100\n",
      "45/45 [==============================] - 4s 100ms/step - loss: 0.0024\n",
      "Epoch 96/100\n",
      "45/45 [==============================] - 4s 92ms/step - loss: 0.0022\n",
      "Epoch 97/100\n",
      "45/45 [==============================] - 4s 87ms/step - loss: 0.0022\n",
      "Epoch 98/100\n",
      "45/45 [==============================] - 4s 85ms/step - loss: 0.0021\n",
      "Epoch 99/100\n",
      "45/45 [==============================] - 5s 104ms/step - loss: 0.0023\n",
      "Epoch 100/100\n",
      "45/45 [==============================] - 5s 109ms/step - loss: 0.0021\n"
     ]
    }
   ],
   "source": [
    "history = regressor.fit(X_train, y_train, epochs = 100, batch_size = 32)"
   ]
  },
  {
   "cell_type": "markdown",
   "id": "a655c69d",
   "metadata": {},
   "source": [
    "After training the network, we plot the cost function to see how the error has evolved, saving it in the history object. We can see how it starts with a high error and decreases and consolidates from epoch 60 onwards."
   ]
  },
  {
   "cell_type": "code",
   "execution_count": 22,
   "id": "8df29d30",
   "metadata": {},
   "outputs": [
    {
     "data": {
      "image/png": "[encoded data removed]",
      "text/plain": [
       "<Figure size 1000x600 with 1 Axes>"
      ]
     },
     "metadata": {},
     "output_type": "display_data"
    }
   ],
   "source": [
    "plt.figure(figsize=(10,6))\n",
    "loss = history.history['loss']\n",
    "\n",
    "plt.plot(range(len(loss)),loss, label='Training loss')\n",
    "plt.title('Loss')\n",
    "plt.legend()\n",
    "\n",
    "plt.show();"
   ]
  },
  {
   "cell_type": "markdown",
   "id": "8aff0077",
   "metadata": {},
   "source": [
    "Overview of the network created with summary:"
   ]
  },
  {
   "cell_type": "code",
   "execution_count": 23,
   "id": "78ba49fa",
   "metadata": {},
   "outputs": [
    {
     "name": "stdout",
     "output_type": "stream",
     "text": [
      "Model: \"sequential\"\n",
      "_________________________________________________________________\n",
      " Layer (type)                Output Shape              Param #   \n",
      "=================================================================\n",
      " lstm (LSTM)                 (None, 60, 50)            10400     \n",
      "                                                                 \n",
      " lstm_1 (LSTM)               (None, 60, 50)            20200     \n",
      "                                                                 \n",
      " dropout (Dropout)           (None, 60, 50)            0         \n",
      "                                                                 \n",
      " lstm_2 (LSTM)               (None, 60, 50)            20200     \n",
      "                                                                 \n",
      " dropout_1 (Dropout)         (None, 60, 50)            0         \n",
      "                                                                 \n",
      " lstm_3 (LSTM)               (None, 50)                20200     \n",
      "                                                                 \n",
      " dropout_2 (Dropout)         (None, 50)                0         \n",
      "                                                                 \n",
      " dense (Dense)               (None, 1)                 51        \n",
      "                                                                 \n",
      "=================================================================\n",
      "Total params: 71,051\n",
      "Trainable params: 71,051\n",
      "Non-trainable params: 0\n",
      "_________________________________________________________________\n"
     ]
    }
   ],
   "source": [
    "regressor.summary()"
   ]
  },
  {
   "cell_type": "markdown",
   "id": "6012b21c",
   "metadata": {},
   "source": [
    "We generate the Test df, selecting the 5 months of 2022."
   ]
  },
  {
   "cell_type": "code",
   "execution_count": 24,
   "id": "0ec31787",
   "metadata": {
    "scrolled": true
   },
   "outputs": [
    {
     "data": {
      "text/html": [
       "<div>\n",
       "<style scoped>\n",
       "    .dataframe tbody tr th:only-of-type {\n",
       "        vertical-align: middle;\n",
       "    }\n",
       "\n",
       "    .dataframe tbody tr th {\n",
       "        vertical-align: top;\n",
       "    }\n",
       "\n",
       "    .dataframe thead th {\n",
       "        text-align: right;\n",
       "    }\n",
       "</style>\n",
       "<table border=\"1\" class=\"dataframe\">\n",
       "  <thead>\n",
       "    <tr style=\"text-align: right;\">\n",
       "      <th></th>\n",
       "      <th>Open</th>\n",
       "      <th>High</th>\n",
       "      <th>Low</th>\n",
       "      <th>Close</th>\n",
       "      <th>Volume</th>\n",
       "      <th>Dividends</th>\n",
       "      <th>Stock Splits</th>\n",
       "    </tr>\n",
       "    <tr>\n",
       "      <th>Date</th>\n",
       "      <th></th>\n",
       "      <th></th>\n",
       "      <th></th>\n",
       "      <th></th>\n",
       "      <th></th>\n",
       "      <th></th>\n",
       "      <th></th>\n",
       "    </tr>\n",
       "  </thead>\n",
       "  <tbody>\n",
       "    <tr>\n",
       "      <th>2022-01-03 00:00:00-05:00</th>\n",
       "      <td>331.406824</td>\n",
       "      <td>334.025658</td>\n",
       "      <td>325.902311</td>\n",
       "      <td>330.813873</td>\n",
       "      <td>28865100</td>\n",
       "      <td>0.0</td>\n",
       "      <td>0</td>\n",
       "    </tr>\n",
       "    <tr>\n",
       "      <th>2022-01-04 00:00:00-05:00</th>\n",
       "      <td>330.892931</td>\n",
       "      <td>331.258606</td>\n",
       "      <td>322.285355</td>\n",
       "      <td>325.141388</td>\n",
       "      <td>32674300</td>\n",
       "      <td>0.0</td>\n",
       "      <td>0</td>\n",
       "    </tr>\n",
       "    <tr>\n",
       "      <th>2022-01-05 00:00:00-05:00</th>\n",
       "      <td>322.028361</td>\n",
       "      <td>322.235914</td>\n",
       "      <td>312.264561</td>\n",
       "      <td>312.659851</td>\n",
       "      <td>40054300</td>\n",
       "      <td>0.0</td>\n",
       "      <td>0</td>\n",
       "    </tr>\n",
       "    <tr>\n",
       "      <th>2022-01-06 00:00:00-05:00</th>\n",
       "      <td>309.467843</td>\n",
       "      <td>314.952602</td>\n",
       "      <td>307.827358</td>\n",
       "      <td>310.189270</td>\n",
       "      <td>39646100</td>\n",
       "      <td>0.0</td>\n",
       "      <td>0</td>\n",
       "    </tr>\n",
       "    <tr>\n",
       "      <th>2022-01-07 00:00:00-05:00</th>\n",
       "      <td>310.456074</td>\n",
       "      <td>312.778447</td>\n",
       "      <td>306.443815</td>\n",
       "      <td>310.347382</td>\n",
       "      <td>32720000</td>\n",
       "      <td>0.0</td>\n",
       "      <td>0</td>\n",
       "    </tr>\n",
       "  </tbody>\n",
       "</table>\n",
       "</div>"
      ],
      "text/plain": [
       "                                 Open        High         Low       Close  \\\n",
       "Date                                                                        \n",
       "2022-01-03 00:00:00-05:00  331.406824  334.025658  325.902311  330.813873   \n",
       "2022-01-04 00:00:00-05:00  330.892931  331.258606  322.285355  325.141388   \n",
       "2022-01-05 00:00:00-05:00  322.028361  322.235914  312.264561  312.659851   \n",
       "2022-01-06 00:00:00-05:00  309.467843  314.952602  307.827358  310.189270   \n",
       "2022-01-07 00:00:00-05:00  310.456074  312.778447  306.443815  310.347382   \n",
       "\n",
       "                             Volume  Dividends  Stock Splits  \n",
       "Date                                                          \n",
       "2022-01-03 00:00:00-05:00  28865100        0.0             0  \n",
       "2022-01-04 00:00:00-05:00  32674300        0.0             0  \n",
       "2022-01-05 00:00:00-05:00  40054300        0.0             0  \n",
       "2022-01-06 00:00:00-05:00  39646100        0.0             0  \n",
       "2022-01-07 00:00:00-05:00  32720000        0.0             0  "
      ]
     },
     "execution_count": 24,
     "metadata": {},
     "output_type": "execute_result"
    }
   ],
   "source": [
    "df_test = df.loc['2022-01-01':'2022-05-31']\n",
    "\n",
    "real_stock_price = df_test.iloc[:, [0]].values\n",
    "df_test.head()"
   ]
  },
  {
   "cell_type": "markdown",
   "id": "6cb96bd1",
   "metadata": {},
   "source": [
    "Now that we have the trained network we are going to predict the values of the year 2022, as we have used a sequence of 60 days in the training df, we are going to generate a dataframe with the necessary observations to estimate 2022. \n",
    "\n",
    "For this we select all the test observations plus the last 60 observations of the training df. We must be sure that the shape of the data corresponds to the input to the network to avoid errors, in our case we start from a row vector with all the observations, so we have to modify it to have a column vector (we use numpy reshape). \n",
    "\n",
    "Once the observations have been selected and the shape has been modified, we have to scale the data, but be careful using the transformation used with the training df, it is possible that now in our new df we have values higher than the max of training and a min lower than the training df, the important thing is that it is transformed using the same values with which the network was trained. For this we use the transform function and not fit_transform. If we don't scale the prediction will not make sense.\n",
    "\n",
    "Once scaled we have to generate the sequential structure of 60 obs for each value we are going to predict as we did before with the training dataframe."
   ]
  },
  {
   "cell_type": "code",
   "execution_count": 25,
   "id": "71f58332",
   "metadata": {},
   "outputs": [
    {
     "name": "stdout",
     "output_type": "stream",
     "text": [
      "1583\n",
      "1480\n",
      "103\n",
      "163\n",
      "(163,)\n",
      "(163, 1)\n"
     ]
    },
    {
     "data": {
      "text/plain": [
       "(43, 60, 1)"
      ]
     },
     "execution_count": 25,
     "metadata": {},
     "output_type": "execute_result"
    }
   ],
   "source": [
    "# Merge the training and test data to be able to scale with all values together for the Open column.\n",
    "\n",
    "df_total = pd.concat((df_train['Open'], df_test['Open']), axis = 0)\n",
    "print(len(df_total))\n",
    "print(len(df_train))\n",
    "print(len(df_test))\n",
    "\n",
    "# Generate the df based on the 60-day sequence.\n",
    "\n",
    "inputs = df_total[len(df_total) - len(df_test) - 60:].values\n",
    "print(len(inputs))\n",
    "print(inputs.shape)\n",
    "\n",
    "# In the previous step has generated a one-dimensional vector, this format is not valid as input in the\n",
    "# Models but we need a column vector, for this we have to change the shape.\n",
    "inputs = inputs.reshape(-1,1)\n",
    "print(inputs.shape)\n",
    "inputs = sc.transform(inputs)\n",
    "X_test = []\n",
    "for i in range(60, len(df_test)):\n",
    "    X_test.append(inputs[i-60:i, 0])\n",
    "X_test = np.array(X_test)\n",
    "X_test = np.reshape(X_test, (X_test.shape[0], X_test.shape[1], 1))\n",
    "X_test.shape"
   ]
  },
  {
   "cell_type": "markdown",
   "id": "dce86365",
   "metadata": {},
   "source": [
    "Once we have generated our test dataframe according to the training of the network, we generate the prediction and reverse the scaling so that we can compare it with the real values of the stock. We can see in the graph how the structure applied as we move through the 2022 dates identifies the change in trend correctly."
   ]
  },
  {
   "cell_type": "code",
   "execution_count": 26,
   "id": "0ec070a1",
   "metadata": {
    "scrolled": true
   },
   "outputs": [
    {
     "name": "stdout",
     "output_type": "stream",
     "text": [
      "2/2 [==============================] - 2s 23ms/step\n"
     ]
    },
    {
     "data": {
      "image/png": "[encoded data removed]",
      "text/plain": [
       "<Figure size 640x480 with 1 Axes>"
      ]
     },
     "metadata": {},
     "output_type": "display_data"
    }
   ],
   "source": [
    "predicted_stock_price = regressor.predict(X_test)\n",
    "predicted_stock_price = sc.inverse_transform(predicted_stock_price)\n",
    "\n",
    "# Visualizar los Resultados\n",
    "plt.plot(real_stock_price[60:len(real_stock_price)], color = 'red',\n",
    "         label = 'Real Price')\n",
    "plt.plot(predicted_stock_price, color = 'blue',\n",
    "         label = 'Predicted Price')\n",
    "plt.title(\"LSTM Microsoft Prediction\")\n",
    "plt.xlabel(\"Date\")\n",
    "plt.ylabel(\"Stock Market Price\")\n",
    "plt.legend()\n",
    "plt.show()"
   ]
  },
  {
   "cell_type": "code",
   "execution_count": 53,
   "id": "52a2d933",
   "metadata": {},
   "outputs": [],
   "source": [
    "mape_lstm = np.mean(np.abs(real_stock_price[60:len(real_stock_price)] - predicted_stock_price)/np.abs(real_stock_price[60:len(real_stock_price)]))    # MAPE\n",
    "smape_lstm = 1/len(predicted_stock_price) * np.sum(np.abs(real_stock_price[60:len(real_stock_price)] - predicted_stock_price) / (np.abs(predicted_stock_price) + np.abs(real_stock_price[60:len(real_stock_price)]))) # sMAPE"
   ]
  },
  {
   "cell_type": "code",
   "execution_count": 54,
   "id": "9bea13f3",
   "metadata": {
    "scrolled": true
   },
   "outputs": [
    {
     "data": {
      "text/plain": [
       "0.07183058309102358"
      ]
     },
     "execution_count": 54,
     "metadata": {},
     "output_type": "execute_result"
    }
   ],
   "source": [
    "mape_lstm"
   ]
  },
  {
   "cell_type": "code",
   "execution_count": 55,
   "id": "f82e9acd",
   "metadata": {
    "scrolled": true
   },
   "outputs": [
    {
     "data": {
      "text/plain": [
       "0.03434772589754229"
      ]
     },
     "execution_count": 55,
     "metadata": {},
     "output_type": "execute_result"
    }
   ],
   "source": [
    "smape_lstm"
   ]
  },
  {
   "cell_type": "markdown",
   "id": "bf470fbf",
   "metadata": {},
   "source": [
    "Our prediction has a 7% of error regards MAPE or a 3,4% of error taking in account SMAPE"
   ]
  }
 ],
 "metadata": {
  "kernelspec": {
   "display_name": "Python 3 (ipykernel)",
   "language": "python",
   "name": "python3"
  },
  "language_info": {
   "codemirror_mode": {
    "name": "ipython",
    "version": 3
   },
   "file_extension": ".py",
   "mimetype": "text/x-python",
   "name": "python",
   "nbconvert_exporter": "python",
   "pygments_lexer": "ipython3",
   "version": "3.7.15"
  },
  "varInspector": {
   "cols": {
    "lenName": 16,
    "lenType": 16,
    "lenVar": 40
   },
   "kernels_config": {
    "python": {
     "delete_cmd_postfix": "",
     "delete_cmd_prefix": "del ",
     "library": "var_list.py",
     "varRefreshCmd": "print(var_dic_list())"
    },
    "r": {
     "delete_cmd_postfix": ") ",
     "delete_cmd_prefix": "rm(",
     "library": "var_list.r",
     "varRefreshCmd": "cat(var_dic_list()) "
    }
   },
   "types_to_exclude": [
    "module",
    "function",
    "builtin_function_or_method",
    "instance",
    "_Feature"
   ],
   "window_display": false
  }
 },
 "nbformat": 4,
 "nbformat_minor": 5
}
